{
  "nbformat": 4,
  "nbformat_minor": 0,
  "metadata": {
    "colab": {
      "provenance": [],
      "toc_visible": true,
      "gpuType": "T4"
    },
    "kernelspec": {
      "name": "python3",
      "display_name": "Python 3"
    },
    "language_info": {
      "name": "python"
    },
    "accelerator": "GPU"
  },
  "cells": [
    {
      "cell_type": "markdown",
      "source": [
        "# Introduction\n",
        "\n",
        "This is a tutorial cum learning notes for PyTorch, covering the PyTorch Basics and gently getting into the details of Deep Learning using PyTorch\n"
      ],
      "metadata": {
        "id": "TRf3naU9FJVs"
      }
    },
    {
      "cell_type": "markdown",
      "source": [
        "Let's start by reviewing very basic concepts of PyTorch"
      ],
      "metadata": {
        "id": "llEWDE7kFl_T"
      }
    },
    {
      "cell_type": "markdown",
      "source": [],
      "metadata": {
        "id": "_56hwZ7me5GJ"
      }
    },
    {
      "cell_type": "code",
      "source": [
        "from re import I\n",
        "import time, os, math\n",
        "import numpy as np\n",
        "\n",
        "import matplotlib.pyplot as plt\n",
        "%matplotlib inline\n",
        "\n",
        "from matplotlib.colors import to_rgba\n",
        "from IPython.display import set_matplotlib_formats\n",
        "set_matplotlib_formats('svg', 'pdf') # for export\n",
        "\n",
        "import seaborn as sns\n",
        "sns.set()\n",
        "\n",
        "from tqdm.notebook import tqdm"
      ],
      "metadata": {
        "colab": {
          "base_uri": "https://localhost:8080/"
        },
        "id": "JqORWFZCe6f8",
        "outputId": "a214ce8a-71d8-437a-a6cb-c919f40339c6"
      },
      "execution_count": 38,
      "outputs": [
        {
          "output_type": "stream",
          "name": "stderr",
          "text": [
            "<ipython-input-38-b03bcc4d2c02>:10: DeprecationWarning: `set_matplotlib_formats` is deprecated since IPython 7.23, directly use `matplotlib_inline.backend_inline.set_matplotlib_formats()`\n",
            "  set_matplotlib_formats('svg', 'pdf') # for export\n"
          ]
        }
      ]
    },
    {
      "cell_type": "code",
      "source": [
        "import torch\n",
        "print(f\"This environment is using Torch: {torch.__version__}\")"
      ],
      "metadata": {
        "colab": {
          "base_uri": "https://localhost:8080/"
        },
        "id": "E2PVdY-cFb1Y",
        "outputId": "c2e1aca3-3502-4af9-f6a6-c2e840acbed8"
      },
      "execution_count": 3,
      "outputs": [
        {
          "output_type": "stream",
          "name": "stdout",
          "text": [
            "This environment is using Torch: 2.1.0+cu118\n"
          ]
        }
      ]
    },
    {
      "cell_type": "markdown",
      "source": [
        "Let's now establish the seed for the random number generation so that the experiments and code results are reproducible"
      ],
      "metadata": {
        "id": "ilre_t5eF9Ye"
      }
    },
    {
      "cell_type": "code",
      "source": [
        "torch.manual_seed(65) # Setting the seed"
      ],
      "metadata": {
        "colab": {
          "base_uri": "https://localhost:8080/"
        },
        "id": "DHwkJQwQFX8G",
        "outputId": "dae7421c-3171-4dbe-c75e-6c31abf0aa49"
      },
      "execution_count": 4,
      "outputs": [
        {
          "output_type": "execute_result",
          "data": {
            "text/plain": [
              "<torch._C.Generator at 0x7d77a0f81510>"
            ]
          },
          "metadata": {},
          "execution_count": 4
        }
      ]
    },
    {
      "cell_type": "markdown",
      "source": [
        "## Tensors\n",
        "Tensors are the n-dimensional data structure provided by PyTorch environment and is the core data structure used in deep learning algorithms. It is equivalent to NumPy arrays, with the addition functionality to have support for GPU Acceleration. Since Numpy and Tensor are equivalent we can convert seamlessly between Numpy and Tensors"
      ],
      "metadata": {
        "id": "HawaZaC2GZ6f"
      }
    },
    {
      "cell_type": "markdown",
      "source": [
        "### Tensor Initialization\n",
        "\n",
        "Let's now look at various ways Tensors can be created"
      ],
      "metadata": {
        "id": "RznQpngHV_5k"
      }
    },
    {
      "cell_type": "code",
      "source": [
        "a = torch.Tensor(2,3)"
      ],
      "metadata": {
        "id": "usiivU59G4J_"
      },
      "execution_count": 5,
      "outputs": []
    },
    {
      "cell_type": "code",
      "source": [
        "print(a)\n"
      ],
      "metadata": {
        "colab": {
          "base_uri": "https://localhost:8080/"
        },
        "id": "QPWD8kMaWW3H",
        "outputId": "f93eb020-a608-4e21-bc49-5ecf38637ff8"
      },
      "execution_count": 6,
      "outputs": [
        {
          "output_type": "stream",
          "name": "stdout",
          "text": [
            "tensor([[1.5877e-42, 1.3563e-19, 3.8771e+35],\n",
            "        [3.1983e-41, 1.2612e-44, 4.8561e+33]])\n"
          ]
        }
      ]
    },
    {
      "cell_type": "markdown",
      "source": [
        "As you can observe that the function torch.Tensor() has allocated the memory for the tensor but it uses the existing value that exists at the memory location.  We can also assign the values to tensor during the initialisation itself by using various functions as listed below\n",
        "- torch.zeros: Create a tensor filled with zeros\n",
        "- torch.ones: Create a tensor filled with ones\n",
        "- torch.rand: Create a tensor with random values uniformly sampled between 0 and 1\n",
        "- torch.randn: Create a tensor with random values sampled from a normal distribution with mean 0 and variance 1\n",
        "- torch.arange: Creante a tensor containing the values N, N+1, N+2,.. ,M\n",
        "torch.Tensor(input list): Create a tensor from the list elements provided as input\n",
        "\n",
        "Let's see all of these initialisation in hte code belwo"
      ],
      "metadata": {
        "id": "x724f9XxWm7M"
      }
    },
    {
      "cell_type": "code",
      "source": [
        "#Create a tensor with input list\n",
        "x_list = torch.Tensor([[1,2,3],[4,5,6],[7,8,9]])\n",
        "print(x_list)"
      ],
      "metadata": {
        "colab": {
          "base_uri": "https://localhost:8080/"
        },
        "id": "wck0N4kAWblv",
        "outputId": "5fb9739b-342f-47bc-d094-d7afde1ed314"
      },
      "execution_count": 7,
      "outputs": [
        {
          "output_type": "stream",
          "name": "stdout",
          "text": [
            "tensor([[1., 2., 3.],\n",
            "        [4., 5., 6.],\n",
            "        [7., 8., 9.]])\n"
          ]
        }
      ]
    },
    {
      "cell_type": "code",
      "source": [
        "#Create a tensor with random values between 0 and 1 with the shape (2,3,4)\n",
        "x_rand = torch.rand(2,3,4)\n",
        "print(x_rand)"
      ],
      "metadata": {
        "colab": {
          "base_uri": "https://localhost:8080/"
        },
        "id": "VdkeXJqyYHsc",
        "outputId": "265c2637-2f99-4a31-a68f-ea0a95315c67"
      },
      "execution_count": 8,
      "outputs": [
        {
          "output_type": "stream",
          "name": "stdout",
          "text": [
            "tensor([[[0.9731, 0.5162, 0.0391, 0.1524],\n",
            "         [0.5041, 0.2316, 0.1970, 0.5104],\n",
            "         [0.6644, 0.0129, 0.7153, 0.3509]],\n",
            "\n",
            "        [[0.0243, 0.0502, 0.5068, 0.1972],\n",
            "         [0.7254, 0.1213, 0.3666, 0.0917],\n",
            "         [0.8901, 0.2063, 0.4631, 0.9299]]])\n"
          ]
        }
      ]
    },
    {
      "cell_type": "code",
      "source": [
        "#Create a tensor with normal distribution of (2,2,3)\n",
        "x_randn = torch.rand(2,2,3)\n",
        "print(x_randn)"
      ],
      "metadata": {
        "colab": {
          "base_uri": "https://localhost:8080/"
        },
        "id": "PL-6vcuEYWK2",
        "outputId": "e54f51cf-6f03-4f4a-f3fa-8d8c3fd486db"
      },
      "execution_count": 9,
      "outputs": [
        {
          "output_type": "stream",
          "name": "stdout",
          "text": [
            "tensor([[[0.3514, 0.1651, 0.7343],\n",
            "         [0.6686, 0.3921, 0.0120]],\n",
            "\n",
            "        [[0.9952, 0.8884, 0.1091],\n",
            "         [0.2598, 0.2760, 0.7843]]])\n"
          ]
        }
      ]
    },
    {
      "cell_type": "code",
      "source": [
        "#Create a tensor with a range function\n",
        "x_range1 = torch.arange(1,5)\n",
        "x_range2 = torch.arange(3)\n",
        "x_range3 = torch.arange(1,6,0.6)\n",
        "print(x_range1)\n",
        "print(x_range2)\n",
        "print(x_range3)"
      ],
      "metadata": {
        "colab": {
          "base_uri": "https://localhost:8080/"
        },
        "id": "TLHnEn3hYgu4",
        "outputId": "b1fd71a5-4ed2-4f0f-a4e8-8e9a1d995dff"
      },
      "execution_count": 10,
      "outputs": [
        {
          "output_type": "stream",
          "name": "stdout",
          "text": [
            "tensor([1, 2, 3, 4])\n",
            "tensor([0, 1, 2])\n",
            "tensor([1.0000, 1.6000, 2.2000, 2.8000, 3.4000, 4.0000, 4.6000, 5.2000, 5.8000])\n"
          ]
        }
      ]
    },
    {
      "cell_type": "markdown",
      "source": [
        "We can obtain the shape of the tensor, also referred to as its dimensions or size using\n",
        "- __shape__ property, or\n",
        "- __size()__ method\n",
        "\n",
        "See the example codebase below"
      ],
      "metadata": {
        "id": "HKoBRki2Za6W"
      }
    },
    {
      "cell_type": "code",
      "source": [
        "x_range3_shape = x_range3.shape\n",
        "print(f\"Shape of x_range3 is {x_range3_shape}\")\n",
        "\n",
        "x_list_size = x_list.size()\n",
        "print(f\"Size of x_list is {x_list_size}\")\n",
        "\n",
        "x_rand_size = x_rand.size()\n",
        "print(f\"Size of x_rand is {x_rand_size}\")\n",
        "\n",
        "x_rand_dim1, x_rand_dim2, x_rand_dim3 = x_rand.size()\n",
        "print(\"Size of x_rand i.e. it respective dimensions are:\", x_rand_dim1, x_rand_dim2, x_rand_dim3)"
      ],
      "metadata": {
        "colab": {
          "base_uri": "https://localhost:8080/"
        },
        "id": "WPQ-XEulZUzb",
        "outputId": "b8e24656-8396-4a1b-9c63-3b4906e88157"
      },
      "execution_count": 11,
      "outputs": [
        {
          "output_type": "stream",
          "name": "stdout",
          "text": [
            "Shape of x_range3 is torch.Size([9])\n",
            "Size of x_list is torch.Size([3, 3])\n",
            "Size of x_rand is torch.Size([2, 3, 4])\n",
            "Size of x_rand i.e. it respective dimensions are: 2 3 4\n"
          ]
        }
      ]
    },
    {
      "cell_type": "markdown",
      "source": [
        "### Tensors to NumPy and NumPy to Tensors\n"
      ],
      "metadata": {
        "id": "8xLDkGnYaseF"
      }
    },
    {
      "cell_type": "code",
      "source": [],
      "metadata": {
        "id": "zI5Dj96SZ17n"
      },
      "execution_count": 11,
      "outputs": []
    },
    {
      "cell_type": "markdown",
      "source": [
        "### Tensors Operations"
      ],
      "metadata": {
        "id": "Uj-0VLlhbrsz"
      }
    },
    {
      "cell_type": "code",
      "source": [],
      "metadata": {
        "id": "n4y1QxzJbt7f"
      },
      "execution_count": 11,
      "outputs": []
    },
    {
      "cell_type": "markdown",
      "source": [
        "### Tensors Indexing"
      ],
      "metadata": {
        "id": "A5FVf-TFb4Qj"
      }
    },
    {
      "cell_type": "code",
      "source": [],
      "metadata": {
        "id": "qq6oIBDob5uL"
      },
      "execution_count": 11,
      "outputs": []
    },
    {
      "cell_type": "markdown",
      "source": [
        "## Dynamic Computation Graph and Backpropogation"
      ],
      "metadata": {
        "id": "Q-fBauGab67R"
      }
    },
    {
      "cell_type": "markdown",
      "source": [
        "One of the reasons we use PyTorch or any other deep learning libraries is that they provide the easy mechanism to calculate the gradients(derivatives) of the function that we define. This applies to the Neural Networks as well which are, in its simplest form, series of functions applied to the inputs variables. We will also use weight matrices when we define a Neural Network; the weight matrix is referred to as __Parameters__ or simply as __Weights__.  It is the values of weights which we want to learn by applying various optimisation techniques.\n",
        "\n",
        "Now when we are creating the tensors, we want to specify whether we want PyTorch to keep track of gradients or not. Let's see this in action in the code below"
      ],
      "metadata": {
        "id": "cEEdjoAncCjT"
      }
    },
    {
      "cell_type": "code",
      "source": [
        "print(x_rand.requires_grad)"
      ],
      "metadata": {
        "colab": {
          "base_uri": "https://localhost:8080/"
        },
        "id": "3OraKY34b_RU",
        "outputId": "836b3d4f-f948-4708-c3db-b0cbe2bc9be9"
      },
      "execution_count": 12,
      "outputs": [
        {
          "output_type": "stream",
          "name": "stdout",
          "text": [
            "False\n"
          ]
        }
      ]
    },
    {
      "cell_type": "code",
      "source": [
        "#Specify that grandient is required for this tensor\n",
        "x = torch.ones((3,), requires_grad=True)\n",
        "print(x, x.requires_grad)"
      ],
      "metadata": {
        "colab": {
          "base_uri": "https://localhost:8080/"
        },
        "id": "jXPx0G9meC2G",
        "outputId": "81469120-4d3e-4270-c409-17fd3fccb3d1"
      },
      "execution_count": 13,
      "outputs": [
        {
          "output_type": "stream",
          "name": "stdout",
          "text": [
            "tensor([1., 1., 1.], requires_grad=True) True\n"
          ]
        }
      ]
    },
    {
      "cell_type": "code",
      "source": [
        "y = torch.randn((2,3))\n",
        "y.requires_grad_(True)"
      ],
      "metadata": {
        "colab": {
          "base_uri": "https://localhost:8080/"
        },
        "id": "xJAiBH_FeQ56",
        "outputId": "aaf62061-c226-4da0-cc25-0e8a89b78917"
      },
      "execution_count": 14,
      "outputs": [
        {
          "output_type": "execute_result",
          "data": {
            "text/plain": [
              "tensor([[0.2837, 1.5242, 0.5338],\n",
              "        [0.4772, 0.0588, 0.1236]], requires_grad=True)"
            ]
          },
          "metadata": {},
          "execution_count": 14
        }
      ]
    },
    {
      "cell_type": "markdown",
      "source": [
        "Let's now build a computation graph"
      ],
      "metadata": {
        "id": "qwMVeuhBemsg"
      }
    },
    {
      "cell_type": "code",
      "source": [
        "x = torch.arange(3, dtype=torch.float32, requires_grad=True)\n",
        "print(\"X :\", x)"
      ],
      "metadata": {
        "colab": {
          "base_uri": "https://localhost:8080/"
        },
        "id": "cHFtnGx6eYP-",
        "outputId": "c7123c44-588b-4354-fe25-d255eb6ae60e"
      },
      "execution_count": 15,
      "outputs": [
        {
          "output_type": "stream",
          "name": "stdout",
          "text": [
            "X : tensor([0., 1., 2.], requires_grad=True)\n"
          ]
        }
      ]
    },
    {
      "cell_type": "code",
      "source": [
        "a = x + 2\n",
        "b = a ** 2\n",
        "c = b + 3\n",
        "y = c.mean()\n",
        "print(\"Y :\", y)"
      ],
      "metadata": {
        "colab": {
          "base_uri": "https://localhost:8080/"
        },
        "id": "dzcU3Gw3eynf",
        "outputId": "116da76d-1182-46df-f114-adac6ec8c5bb"
      },
      "execution_count": 16,
      "outputs": [
        {
          "output_type": "stream",
          "name": "stdout",
          "text": [
            "Y : tensor(12.6667, grad_fn=<MeanBackward0>)\n"
          ]
        }
      ]
    },
    {
      "cell_type": "markdown",
      "source": [
        "Using the statements above we have basically created a computation graph.\n",
        "\n",
        "In this graph we calculate a based on the input x and constant 2, b is calculated by perform square of a, c is calculated by b and constant 3 and so and so forth. Each node of this computation graphs has automatically defined a function for calculating the gradient with respect to its inputs; and the name of the function is __grad_fn__.\n",
        "\n",
        "You can see that in the last code snipper where we have printed variable y, which is the final output of the computation graph we have created.\n",
        "\n",
        "This grandient function is infact created for all the interm nodes as well, as highlighted in the code snippet below:"
      ],
      "metadata": {
        "id": "vg-jNIVHfwkQ"
      }
    },
    {
      "cell_type": "code",
      "source": [
        "print(a)\n",
        "print(b)\n",
        "print(c)"
      ],
      "metadata": {
        "colab": {
          "base_uri": "https://localhost:8080/"
        },
        "id": "0c7_513vgfV8",
        "outputId": "f4c6bcd3-bbe2-4b12-d2f3-1b526df7948f"
      },
      "execution_count": 17,
      "outputs": [
        {
          "output_type": "stream",
          "name": "stdout",
          "text": [
            "tensor([2., 3., 4.], grad_fn=<AddBackward0>)\n",
            "tensor([ 4.,  9., 16.], grad_fn=<PowBackward0>)\n",
            "tensor([ 7., 12., 19.], grad_fn=<AddBackward0>)\n"
          ]
        }
      ]
    },
    {
      "cell_type": "markdown",
      "source": [
        "We can now perform the back propogation on the computation graph by calling the function backward() on the last output, which will calculate the graidents for each node (tensor) that has property requires_grad=True."
      ],
      "metadata": {
        "id": "jqHMZUMkgzNC"
      }
    },
    {
      "cell_type": "code",
      "source": [
        "y.backward()"
      ],
      "metadata": {
        "id": "e4SDGFZZgh53"
      },
      "execution_count": 18,
      "outputs": []
    },
    {
      "cell_type": "code",
      "source": [
        "print(x.grad)\n",
        "print(a.grad)\n",
        "print(b.grad)\n",
        "print(c.grad)"
      ],
      "metadata": {
        "colab": {
          "base_uri": "https://localhost:8080/"
        },
        "id": "BeBgVDemhF_-",
        "outputId": "dc7c2ad8-74c6-48af-ab90-6cbdf2bc117e"
      },
      "execution_count": 19,
      "outputs": [
        {
          "output_type": "stream",
          "name": "stdout",
          "text": [
            "tensor([1.3333, 2.0000, 2.6667])\n",
            "None\n",
            "None\n",
            "None\n"
          ]
        },
        {
          "output_type": "stream",
          "name": "stderr",
          "text": [
            "<ipython-input-19-fc1621a75932>:2: UserWarning: The .grad attribute of a Tensor that is not a leaf Tensor is being accessed. Its .grad attribute won't be populated during autograd.backward(). If you indeed want the .grad field to be populated for a non-leaf Tensor, use .retain_grad() on the non-leaf Tensor. If you access the non-leaf Tensor by mistake, make sure you access the leaf Tensor instead. See github.com/pytorch/pytorch/pull/30531 for more informations. (Triggered internally at aten/src/ATen/core/TensorBody.h:489.)\n",
            "  print(a.grad)\n",
            "<ipython-input-19-fc1621a75932>:3: UserWarning: The .grad attribute of a Tensor that is not a leaf Tensor is being accessed. Its .grad attribute won't be populated during autograd.backward(). If you indeed want the .grad field to be populated for a non-leaf Tensor, use .retain_grad() on the non-leaf Tensor. If you access the non-leaf Tensor by mistake, make sure you access the leaf Tensor instead. See github.com/pytorch/pytorch/pull/30531 for more informations. (Triggered internally at aten/src/ATen/core/TensorBody.h:489.)\n",
            "  print(b.grad)\n",
            "<ipython-input-19-fc1621a75932>:4: UserWarning: The .grad attribute of a Tensor that is not a leaf Tensor is being accessed. Its .grad attribute won't be populated during autograd.backward(). If you indeed want the .grad field to be populated for a non-leaf Tensor, use .retain_grad() on the non-leaf Tensor. If you access the non-leaf Tensor by mistake, make sure you access the leaf Tensor instead. See github.com/pytorch/pytorch/pull/30531 for more informations. (Triggered internally at aten/src/ATen/core/TensorBody.h:489.)\n",
            "  print(c.grad)\n"
          ]
        }
      ]
    },
    {
      "cell_type": "code",
      "source": [
        "print(a.requires_grad)"
      ],
      "metadata": {
        "colab": {
          "base_uri": "https://localhost:8080/"
        },
        "id": "_1cVjIzkhNDy",
        "outputId": "d5ed3706-1627-4196-bb3a-0023f0e812bc"
      },
      "execution_count": 20,
      "outputs": [
        {
          "output_type": "stream",
          "name": "stdout",
          "text": [
            "True\n"
          ]
        }
      ]
    },
    {
      "cell_type": "markdown",
      "source": [
        "## GPU Support\n",
        "GPUs can accelerate the training of neural networks up to a factor of 100 which iv essential for large neural networks. PyTorch implements a lot of functionality to support GPUs (mostly NVIDIAs one based on libraries CUDA and cuDNN)\n",
        "\n",
        "To check whether this environment have GPU available or not we can run the following code snippet"
      ],
      "metadata": {
        "id": "L-fw8lhxhr-c"
      }
    },
    {
      "cell_type": "code",
      "source": [
        "gpu_avail = torch.cuda.is_available()\n",
        "print(f\"In this environment GPU is available: {gpu_avail}\")"
      ],
      "metadata": {
        "colab": {
          "base_uri": "https://localhost:8080/"
        },
        "id": "tjS95b76hbM1",
        "outputId": "39a53570-5fac-42de-a485-34037f05e1bc"
      },
      "execution_count": 21,
      "outputs": [
        {
          "output_type": "stream",
          "name": "stdout",
          "text": [
            "In this environment GPU is available: True\n"
          ]
        }
      ]
    },
    {
      "cell_type": "markdown",
      "source": [
        "By default, all the tensors which we create are run on the CPU. We can though push the tensor to GPU by using the function .to(...) or .cude(). It is though a good practice to define a device object in our code which points to GPU if we have one, otherwise to CPU.\n",
        "\n",
        "All the processing code thereafter can be written with respect to this device object, thus allowing us to run the same code on both a CPU-only system, and one with GPU.\n",
        "\n",
        "This can be achieved by following code snippet:"
      ],
      "metadata": {
        "id": "pqrrFybsdJjE"
      }
    },
    {
      "cell_type": "code",
      "source": [
        "device = torch.device(\"cuda\") if torch.cuda.is_available() else torch.device(\"cpu\")\n",
        "print(\"Device is: \", device)"
      ],
      "metadata": {
        "colab": {
          "base_uri": "https://localhost:8080/"
        },
        "id": "DWZeJxGcc5Y1",
        "outputId": "4c05d6eb-1d85-439a-b363-0d6b1bb9f2bc"
      },
      "execution_count": 22,
      "outputs": [
        {
          "output_type": "stream",
          "name": "stdout",
          "text": [
            "Device is:  cuda\n"
          ]
        }
      ]
    },
    {
      "cell_type": "markdown",
      "source": [
        "When we create a tensor now and push it to the device:"
      ],
      "metadata": {
        "id": "UxoUs-Bad_FZ"
      }
    },
    {
      "cell_type": "code",
      "source": [
        "x = torch.ones(2,3)\n",
        "x = x.to(device)\n",
        "print(\"X:\", x)"
      ],
      "metadata": {
        "colab": {
          "base_uri": "https://localhost:8080/"
        },
        "id": "sJ8pk431d0TF",
        "outputId": "a2cb02e6-40fa-47f5-f2cd-28f11b799ae6"
      },
      "execution_count": 23,
      "outputs": [
        {
          "output_type": "stream",
          "name": "stdout",
          "text": [
            "X: tensor([[1., 1., 1.],\n",
            "        [1., 1., 1.]], device='cuda:0')\n"
          ]
        }
      ]
    },
    {
      "cell_type": "markdown",
      "source": [
        "In case the environment have GPI, we could see the attribute __device='cuda:0' printed next to the tensor. The zero next to string 'cuda' indicates that this is zero-th GPU in this environment. PyTorch also supports multi-GPU systems, which can be used to train large networks.\n",
        "\n",
        "We can also compare the runtime of a large mutliplication on the CPU with a operation on GPU"
      ],
      "metadata": {
        "id": "iUTfqXQpeT5Q"
      }
    },
    {
      "cell_type": "code",
      "source": [
        "x = torch.randn(5000, 5000)\n",
        "\n",
        "##CPU Version\n",
        "start_time = time.time()\n",
        "_ = torch.matmul(x,x)\n",
        "end_time = time.time()\n",
        "print(f\"CPU time: {(end_time - start_time):6.5f}s\")\n",
        "\n",
        "x = x.to(device)\n",
        "_ = torch.matmul(x,x)  #First operation to burn in GPU\n",
        "#CUDA is asynchronous, so we need to use different timing function\n",
        "start = torch.cuda.Event(enable_timing=True)\n",
        "end = torch.cuda.Event(enable_timing=True)\n",
        "\n",
        "start.record()\n",
        "_ = torch.matmul(x,x)\n",
        "end.record()\n",
        "torch.cuda.synchronize() #Waits for everything to finish running on GPU\n",
        "\n",
        "print(f\"GPU time: {0.001 * start.elapsed_time(end):6.5f}s\")\n"
      ],
      "metadata": {
        "colab": {
          "base_uri": "https://localhost:8080/"
        },
        "id": "04hf15hCeMFL",
        "outputId": "f23e7682-ff1b-47c7-a45f-15a308cee2ff"
      },
      "execution_count": 24,
      "outputs": [
        {
          "output_type": "stream",
          "name": "stdout",
          "text": [
            "CPU time: 3.06534s\n",
            "GPU time: 0.07047s\n"
          ]
        }
      ]
    },
    {
      "cell_type": "markdown",
      "source": [
        "Depending on the size of the operation and the CPU/GPU in the system, the speedup of this operation can be >50x. As matmul operations are very common in neural network, we can already see the great benefit of training a NN on GPU. The time estimate can be noisy here as we haven't run it for multiple times.\n",
        "\n",
        "When generating random numbers, the seed between CPU and GPU is not synchronized. Hence, we need to see the GPU separately to ensure a reproducible code. Also due to different GPU architectures, running the same code on different GPUs doesnt gurarantee the same random numbers. Still, we want reproducible code atleast when we are running on the exact same hardware, hence we also set the seed on GPU"
      ],
      "metadata": {
        "id": "w8FLMLaGgbYI"
      }
    },
    {
      "cell_type": "code",
      "source": [
        "#GPU operations have a separate seed.\n",
        "if torch.cuda.is_available():\n",
        "  torch.cuda.manual_seed(42)\n",
        "  torch.cuda.manual_seed_all(42)\n",
        "\n",
        "# Additionally, some operations on a GPU are implemented stochastic for efficiency\n",
        "# We want to ensure that all operations are deterministic on GPU (if used) for reproducability\n",
        "torch.backends.cudnn.deterministic = True\n",
        "torch.backends.cudnn.benchmark = False"
      ],
      "metadata": {
        "id": "Lu8jOgfggND-"
      },
      "execution_count": 25,
      "outputs": []
    },
    {
      "cell_type": "markdown",
      "source": [
        "## Learning by Example : Continuous XOR\n",
        "If we want to build a neural network in PyTorch, we could specify all our parameters (weight matrices, bias vector) using Tensors (with requires_grad=True), ask Pytorch to calculate gradients and then adjust the parameters. But things, can quickly get cumbersome if we have lot of parameters. As such we use the modules provided by PyTorch to build a Neural Network, the package is called as torch.nn, and it makes building neural networks more convenient\n",
        "\n",
        "Let's understand this package by using a simple example classifier on a simple known example : XOR.\n",
        "\n",
        "XOR functionality can be described as follows: given two binary inputs x1 and x2, the label to predict is 1 if either x1 or x2 is 1 while the other is 0, or the label is 0 in all other cases. This example is famous because a single neuron i.e. a linear classifier cannot learn this simple function. Hence, let's build a simple neural network that can learn this function. And for it to be more interesting, we move the XOR into continuous space and introduce some gaussian noise on the binary inputs. Our desired sepration of an XOR dataset could look as follows:"
      ],
      "metadata": {
        "id": "qTWgLBa3i8Z9"
      }
    },
    {
      "cell_type": "markdown",
      "source": [
        "The package torrch.nn defines a series of useful classes like linear network layers, activation functions, loss functions etc.\n",
        "\n",
        "### The Model"
      ],
      "metadata": {
        "id": "81lNGdg2uF-Z"
      }
    },
    {
      "cell_type": "code",
      "source": [
        "import torch.nn as nn"
      ],
      "metadata": {
        "id": "fPGC1f6wip17"
      },
      "execution_count": 27,
      "outputs": []
    },
    {
      "cell_type": "markdown",
      "source": [
        "Additionally to torch.nn, there is also torch.nn.functional. It contains the functions that are used in network layers. This is in contrast to torch.nn which them as modules nn.Modules, and torch.nn actually uses lot of functionalities from torch.nn.functional. Hence, the functional package is useful in many situations. Importing it here"
      ],
      "metadata": {
        "id": "strJZER6uXkv"
      }
    },
    {
      "cell_type": "code",
      "source": [
        "import torch.nn.functional as F"
      ],
      "metadata": {
        "id": "yM662vYOt9Ip"
      },
      "execution_count": 28,
      "outputs": []
    },
    {
      "cell_type": "markdown",
      "source": [
        "### nn.Module\n",
        "\n",
        "In PyTorch, a neural network is built up out of modules. Modules can contain other modules, and neural network is considered to be a module itself. The basic template of a module is as follows:"
      ],
      "metadata": {
        "id": "ys_YA4glvCou"
      }
    },
    {
      "cell_type": "code",
      "source": [
        "class MyModule(nn.Module):\n",
        "\n",
        "  def __init__(self):\n",
        "    super.__init__()\n",
        "    #Some initialisation for this module\n",
        "\n",
        "  def forward(self,x):\n",
        "    #function for calculating the forward pass calculations\n",
        "    pass"
      ],
      "metadata": {
        "id": "Fr9IIAwcuxK3"
      },
      "execution_count": 29,
      "outputs": []
    },
    {
      "cell_type": "markdown",
      "source": [
        "The forward function is where the computation of the module is taken place, and is executed when you call the module (nn = MyModule(), nn(x)) In the init function we usually create the parameters of the module using nn.Parameter, or defining other modules that are used in the forward function.\n",
        "\n",
        "The backward pass calculation is done automatically, but could be overwritten as well if required"
      ],
      "metadata": {
        "id": "v9DZ4TawvjOJ"
      }
    },
    {
      "cell_type": "markdown",
      "source": [
        "### Implementation of Simple Classifier"
      ],
      "metadata": {
        "id": "ULB4yWTuv8U1"
      }
    },
    {
      "cell_type": "code",
      "source": [
        "class SimpleClassifier(nn.Module):\n",
        "  def __init__(self, num_inputs, num_hidden, num_outputs):\n",
        "    super().__init__()\n",
        "    # Initialise the modules needed to build the network\n",
        "    self.linear1 = nn.Linear(num_inputs, num_hidden)\n",
        "    self.act_fn = nn.Tanh()\n",
        "    self.linear2 = nn.Linear(num_hidden, num_outputs)\n",
        "\n",
        "  def forward(self, x):\n",
        "    # Perform the calculation of the model to determine the prediction\n",
        "    x = self.linear1(x)\n",
        "    x = self.act_fn(x)\n",
        "    x = self.linear2(x)\n",
        "    return x\n",
        ""
      ],
      "metadata": {
        "id": "kBfey8qVviK6"
      },
      "execution_count": 32,
      "outputs": []
    },
    {
      "cell_type": "markdown",
      "source": [],
      "metadata": {
        "id": "ipufW-Ylw2XW"
      }
    },
    {
      "cell_type": "code",
      "source": [
        "model = SimpleClassifier(num_inputs=2, num_hidden=4, num_outputs=1)\n",
        "print(model)"
      ],
      "metadata": {
        "colab": {
          "base_uri": "https://localhost:8080/"
        },
        "id": "DwlosF9rw0tW",
        "outputId": "1ab21874-d6ba-4441-fac1-1acfbca69282"
      },
      "execution_count": 33,
      "outputs": [
        {
          "output_type": "stream",
          "name": "stdout",
          "text": [
            "SimpleClassifier(\n",
            "  (linear1): Linear(in_features=2, out_features=4, bias=True)\n",
            "  (act_fn): Tanh()\n",
            "  (linear2): Linear(in_features=4, out_features=1, bias=True)\n",
            ")\n"
          ]
        }
      ]
    },
    {
      "cell_type": "markdown",
      "source": [
        "Printing the model lists all the submodules it contains. The parameters of a module can be obtained by using its parameters() function or named_parameters() to get a name to each parameter object."
      ],
      "metadata": {
        "id": "TgdAmKVMxI8y"
      }
    },
    {
      "cell_type": "code",
      "source": [
        "for name, param in model.named_parameters():\n",
        "  print(f\"Parameter: {name}, shape: {param.shape}\")"
      ],
      "metadata": {
        "colab": {
          "base_uri": "https://localhost:8080/"
        },
        "id": "MQP7PMXgw8l3",
        "outputId": "79378034-f63d-4431-bfce-ebb8feaaa512"
      },
      "execution_count": 34,
      "outputs": [
        {
          "output_type": "stream",
          "name": "stdout",
          "text": [
            "Parameter: linear1.weight, shape: torch.Size([4, 2])\n",
            "Parameter: linear1.bias, shape: torch.Size([4])\n",
            "Parameter: linear2.weight, shape: torch.Size([1, 4])\n",
            "Parameter: linear2.bias, shape: torch.Size([1])\n"
          ]
        }
      ]
    },
    {
      "cell_type": "markdown",
      "source": [
        "Each linear layer has a weight matrix of the shape [output, input], and a bias of shape [output]. The tanh activation function doesnt have any parameters. Note that parameters are only registered for nn.Module objects that are direct object attributes, i.e. self.a =...\n",
        "\n",
        "If we define a list of modules, the parameters of those are not registered for the outer modules and can cause some issues when we try to optimise our module. There are alternative datastructures like nn.ModuleLists, nn.ModuleDict, nn.Sequential etc., which we will use later"
      ],
      "metadata": {
        "id": "Tz04t28kx8hX"
      }
    },
    {
      "cell_type": "markdown",
      "source": [
        "### The Data"
      ],
      "metadata": {
        "id": "sI-TLsknynuX"
      }
    },
    {
      "cell_type": "markdown",
      "source": [
        "PyTorch also provides few functionalities to load the training and test data efficiently, available in the package torch.utils.data"
      ],
      "metadata": {
        "id": "E7uexZaQysTG"
      }
    },
    {
      "cell_type": "code",
      "source": [
        "import torch.utils.data as data"
      ],
      "metadata": {
        "id": "eqYUAVJLyRcY"
      },
      "execution_count": 35,
      "outputs": []
    },
    {
      "cell_type": "markdown",
      "source": [
        "data package defines two classes that are the standard interface for handling data in PyTorch, and they are\n",
        "- data.Dataset: this class provides a uniform interface to access training and test data\n",
        "- data.DataLoader: this class provides the functionality to load and stack the data points from the dataset into batches during the training."
      ],
      "metadata": {
        "id": "llY9y23ky30S"
      }
    },
    {
      "cell_type": "markdown",
      "source": [
        "#### The Dataset class\n",
        "The dataset class summarizes the basic functionality of a dataset in a natural way. To define a dataset in PyTorch we simply specify two functions: __getitem__, and __len__. The getitem function has to return the i-th datapoint in the dataset, while the len function returns the size of the dataset.\n",
        "\n",
        "We will the define the XORDataset as follows:"
      ],
      "metadata": {
        "id": "fEzR27srzdl1"
      }
    },
    {
      "cell_type": "code",
      "source": [
        "class XORDataset(data.Dataset):\n",
        "  def __init__(self, size, std=0.1):\n",
        "    \"\"\"\n",
        "    Inputs:\n",
        "    size: Number of datapoints we want to generate\n",
        "    std: Standard Deviation of the noise\n",
        "    \"\"\"\n",
        "    super().__init__()\n",
        "    self.size = size\n",
        "    self.std = std\n",
        "    self.generate_continuous_xor()\n",
        "\n",
        "\n",
        "  def generate_continuous_xor(self):\n",
        "    # Each data point in the XOR dataset has two variables, x and y, that can be either 0 or 1\n",
        "    # The label is their XOR combination, i.e. 1 if only x or only y is 1 while the other is 0.\n",
        "    # If x=y, the label is 0.\n",
        "    data = torch.randint(low=0, high=2, size=(self.size, 2), dtype=torch.float32)\n",
        "    label = (data.sum(dim=1) == 1).to(torch.long)\n",
        "    # To make it slightly more challenging, we add a bit of gaussian noise to the data points.\n",
        "    data += self.std * torch.randn(data.shape)\n",
        "\n",
        "    self.data = data\n",
        "    self.label = label\n",
        "\n",
        "  def __len__(self):\n",
        "    return self.size\n",
        "\n",
        "  def __getitem__(self, idx):\n",
        "    data_point = self.data[idx]\n",
        "    data_label = self.label[idx]\n",
        "    return data_point, data_label"
      ],
      "metadata": {
        "id": "n41XIlCOxm9p"
      },
      "execution_count": 47,
      "outputs": []
    },
    {
      "cell_type": "code",
      "source": [
        "dataset = XORDataset(size=200)\n",
        "print(\"Size of Dataset:\", len(dataset))\n",
        "print(\"Data Point 0 :\", dataset[0])"
      ],
      "metadata": {
        "colab": {
          "base_uri": "https://localhost:8080/"
        },
        "id": "Hz4ASV-m1jCY",
        "outputId": "75d2f8a2-1ea1-4eed-a92e-664cb74c2f4c"
      },
      "execution_count": 48,
      "outputs": [
        {
          "output_type": "stream",
          "name": "stdout",
          "text": [
            "Size of Dataset: 200\n",
            "Data Point 0 : (tensor([1.1187, 1.0423]), tensor(0))\n"
          ]
        }
      ]
    },
    {
      "cell_type": "code",
      "source": [
        "# Lets visualise this dataset\n",
        "def visualise_samples(data, label):\n",
        "  if isinstance(data, torch.Tensor):\n",
        "    data = data.cpu().numpy()\n",
        "  if isinstance(label, torch.Tensor):\n",
        "    label = label.cpu().numpy()\n",
        "\n",
        "  data_0 = data[label==0]\n",
        "  data_1 = data[label==1]\n",
        "\n",
        "  plt.figure(figsize=(4,4))\n",
        "  plt.scatter(data_0[:,0], data_0[:,1], edgecolor=\"#333\", label=\"Class 0\")\n",
        "  plt.scatter(data_1[:,0], data_1[:,1], edgecolor=\"#333\", label=\"Class 1\")\n",
        "  plt.title(\"Dataset Samples\")\n",
        "  plt.ylabel(r\"$x_2$\")\n",
        "  plt.xlabel(r\"$x_1$\")\n",
        "  plt.legend()"
      ],
      "metadata": {
        "id": "WG3Tol6P17N-"
      },
      "execution_count": 60,
      "outputs": []
    },
    {
      "cell_type": "code",
      "source": [
        "visualise_samples(dataset.data, dataset.label)\n",
        "plt.show()\n"
      ],
      "metadata": {
        "colab": {
          "base_uri": "https://localhost:8080/",
          "height": 404
        },
        "id": "_fCgBZwl3vv_",
        "outputId": "58bc62a2-a466-4d87-ec65-3369c43a9574"
      },
      "execution_count": 61,
      "outputs": [
        {
          "output_type": "display_data",
          "data": {
            "text/plain": [
              "<Figure size 400x400 with 1 Axes>"
            ],
            "image/svg+xml": "<?xml version=\"1.0\" encoding=\"utf-8\" standalone=\"no\"?>\n<!DOCTYPE svg PUBLIC \"-//W3C//DTD SVG 1.1//EN\"\n  \"http://www.w3.org/Graphics/SVG/1.1/DTD/svg11.dtd\">\n<svg xmlns:xlink=\"http://www.w3.org/1999/xlink\" width=\"289.424844pt\" height=\"287.037813pt\" viewBox=\"0 0 289.424844 287.037813\" xmlns=\"http://www.w3.org/2000/svg\" version=\"1.1\">\n <metadata>\n  <rdf:RDF xmlns:dc=\"http://purl.org/dc/elements/1.1/\" xmlns:cc=\"http://creativecommons.org/ns#\" xmlns:rdf=\"http://www.w3.org/1999/02/22-rdf-syntax-ns#\">\n   <cc:Work>\n    <dc:type rdf:resource=\"http://purl.org/dc/dcmitype/StillImage\"/>\n    <dc:date>2023-12-14T10:40:18.987767</dc:date>\n    <dc:format>image/svg+xml</dc:format>\n    <dc:creator>\n     <cc:Agent>\n      <dc:title>Matplotlib v3.7.1, https://matplotlib.org/</dc:title>\n     </cc:Agent>\n    </dc:creator>\n   </cc:Work>\n  </rdf:RDF>\n </metadata>\n <defs>\n  <style type=\"text/css\">*{stroke-linejoin: round; stroke-linecap: butt}</style>\n </defs>\n <g id=\"figure_1\">\n  <g id=\"patch_1\">\n   <path d=\"M 0 287.037813 \nL 289.424844 287.037813 \nL 289.424844 0 \nL 0 0 \nz\n\" style=\"fill: #ffffff\"/>\n  </g>\n  <g id=\"axes_1\">\n   <g id=\"patch_2\">\n    <path d=\"M 59.024844 244.078125 \nL 282.224844 244.078125 \nL 282.224844 22.318125 \nL 59.024844 22.318125 \nz\n\" style=\"fill: #eaeaf2\"/>\n   </g>\n   <g id=\"matplotlib.axis_1\">\n    <g id=\"xtick_1\">\n     <g id=\"line2d_1\">\n      <path d=\"M 100.647964 244.078125 \nL 100.647964 22.318125 \n\" clip-path=\"url(#pacff1213a7)\" style=\"fill: none; stroke: #ffffff; stroke-linecap: round\"/>\n     </g>\n     <g id=\"text_1\">\n      <!-- 0.0 -->\n      <g style=\"fill: #262626\" transform=\"translate(91.901245 261.936406) scale(0.11 -0.11)\">\n       <defs>\n        <path id=\"DejaVuSans-30\" d=\"M 2034 4250 \nQ 1547 4250 1301 3770 \nQ 1056 3291 1056 2328 \nQ 1056 1369 1301 889 \nQ 1547 409 2034 409 \nQ 2525 409 2770 889 \nQ 3016 1369 3016 2328 \nQ 3016 3291 2770 3770 \nQ 2525 4250 2034 4250 \nz\nM 2034 4750 \nQ 2819 4750 3233 4129 \nQ 3647 3509 3647 2328 \nQ 3647 1150 3233 529 \nQ 2819 -91 2034 -91 \nQ 1250 -91 836 529 \nQ 422 1150 422 2328 \nQ 422 3509 836 4129 \nQ 1250 4750 2034 4750 \nz\n\" transform=\"scale(0.015625)\"/>\n        <path id=\"DejaVuSans-2e\" d=\"M 684 794 \nL 1344 794 \nL 1344 0 \nL 684 0 \nL 684 794 \nz\n\" transform=\"scale(0.015625)\"/>\n       </defs>\n       <use xlink:href=\"#DejaVuSans-30\"/>\n       <use xlink:href=\"#DejaVuSans-2e\" x=\"63.623047\"/>\n       <use xlink:href=\"#DejaVuSans-30\" x=\"95.410156\"/>\n      </g>\n     </g>\n    </g>\n    <g id=\"xtick_2\">\n     <g id=\"line2d_2\">\n      <path d=\"M 167.545431 244.078125 \nL 167.545431 22.318125 \n\" clip-path=\"url(#pacff1213a7)\" style=\"fill: none; stroke: #ffffff; stroke-linecap: round\"/>\n     </g>\n     <g id=\"text_2\">\n      <!-- 0.5 -->\n      <g style=\"fill: #262626\" transform=\"translate(158.798712 261.936406) scale(0.11 -0.11)\">\n       <defs>\n        <path id=\"DejaVuSans-35\" d=\"M 691 4666 \nL 3169 4666 \nL 3169 4134 \nL 1269 4134 \nL 1269 2991 \nQ 1406 3038 1543 3061 \nQ 1681 3084 1819 3084 \nQ 2600 3084 3056 2656 \nQ 3513 2228 3513 1497 \nQ 3513 744 3044 326 \nQ 2575 -91 1722 -91 \nQ 1428 -91 1123 -41 \nQ 819 9 494 109 \nL 494 744 \nQ 775 591 1075 516 \nQ 1375 441 1709 441 \nQ 2250 441 2565 725 \nQ 2881 1009 2881 1497 \nQ 2881 1984 2565 2268 \nQ 2250 2553 1709 2553 \nQ 1456 2553 1204 2497 \nQ 953 2441 691 2322 \nL 691 4666 \nz\n\" transform=\"scale(0.015625)\"/>\n       </defs>\n       <use xlink:href=\"#DejaVuSans-30\"/>\n       <use xlink:href=\"#DejaVuSans-2e\" x=\"63.623047\"/>\n       <use xlink:href=\"#DejaVuSans-35\" x=\"95.410156\"/>\n      </g>\n     </g>\n    </g>\n    <g id=\"xtick_3\">\n     <g id=\"line2d_3\">\n      <path d=\"M 234.442897 244.078125 \nL 234.442897 22.318125 \n\" clip-path=\"url(#pacff1213a7)\" style=\"fill: none; stroke: #ffffff; stroke-linecap: round\"/>\n     </g>\n     <g id=\"text_3\">\n      <!-- 1.0 -->\n      <g style=\"fill: #262626\" transform=\"translate(225.696179 261.936406) scale(0.11 -0.11)\">\n       <defs>\n        <path id=\"DejaVuSans-31\" d=\"M 794 531 \nL 1825 531 \nL 1825 4091 \nL 703 3866 \nL 703 4441 \nL 1819 4666 \nL 2450 4666 \nL 2450 531 \nL 3481 531 \nL 3481 0 \nL 794 0 \nL 794 531 \nz\n\" transform=\"scale(0.015625)\"/>\n       </defs>\n       <use xlink:href=\"#DejaVuSans-31\"/>\n       <use xlink:href=\"#DejaVuSans-2e\" x=\"63.623047\"/>\n       <use xlink:href=\"#DejaVuSans-30\" x=\"95.410156\"/>\n      </g>\n     </g>\n    </g>\n    <g id=\"text_4\">\n     <!-- $x_1$ -->\n     <g style=\"fill: #262626\" transform=\"translate(164.204844 277.342188) scale(0.12 -0.12)\">\n      <defs>\n       <path id=\"DejaVuSans-Oblique-78\" d=\"M 3841 3500 \nL 2234 1784 \nL 3219 0 \nL 2559 0 \nL 1819 1388 \nL 531 0 \nL -166 0 \nL 1556 1844 \nL 641 3500 \nL 1300 3500 \nL 1972 2234 \nL 3144 3500 \nL 3841 3500 \nz\n\" transform=\"scale(0.015625)\"/>\n      </defs>\n      <use xlink:href=\"#DejaVuSans-Oblique-78\" transform=\"translate(0 0.3125)\"/>\n      <use xlink:href=\"#DejaVuSans-31\" transform=\"translate(59.179688 -16.09375) scale(0.7)\"/>\n     </g>\n    </g>\n   </g>\n   <g id=\"matplotlib.axis_2\">\n    <g id=\"ytick_1\">\n     <g id=\"line2d_4\">\n      <path d=\"M 59.024844 223.91202 \nL 282.224844 223.91202 \n\" clip-path=\"url(#pacff1213a7)\" style=\"fill: none; stroke: #ffffff; stroke-linecap: round\"/>\n     </g>\n     <g id=\"text_5\">\n      <!-- −0.2 -->\n      <g style=\"fill: #262626\" transform=\"translate(22.81375 228.09116) scale(0.11 -0.11)\">\n       <defs>\n        <path id=\"DejaVuSans-2212\" d=\"M 678 2272 \nL 4684 2272 \nL 4684 1741 \nL 678 1741 \nL 678 2272 \nz\n\" transform=\"scale(0.015625)\"/>\n        <path id=\"DejaVuSans-32\" d=\"M 1228 531 \nL 3431 531 \nL 3431 0 \nL 469 0 \nL 469 531 \nQ 828 903 1448 1529 \nQ 2069 2156 2228 2338 \nQ 2531 2678 2651 2914 \nQ 2772 3150 2772 3378 \nQ 2772 3750 2511 3984 \nQ 2250 4219 1831 4219 \nQ 1534 4219 1204 4116 \nQ 875 4013 500 3803 \nL 500 4441 \nQ 881 4594 1212 4672 \nQ 1544 4750 1819 4750 \nQ 2544 4750 2975 4387 \nQ 3406 4025 3406 3419 \nQ 3406 3131 3298 2873 \nQ 3191 2616 2906 2266 \nQ 2828 2175 2409 1742 \nQ 1991 1309 1228 531 \nz\n\" transform=\"scale(0.015625)\"/>\n       </defs>\n       <use xlink:href=\"#DejaVuSans-2212\"/>\n       <use xlink:href=\"#DejaVuSans-30\" x=\"83.789062\"/>\n       <use xlink:href=\"#DejaVuSans-2e\" x=\"147.412109\"/>\n       <use xlink:href=\"#DejaVuSans-32\" x=\"179.199219\"/>\n      </g>\n     </g>\n    </g>\n    <g id=\"ytick_2\">\n     <g id=\"line2d_5\">\n      <path d=\"M 59.024844 198.016996 \nL 282.224844 198.016996 \n\" clip-path=\"url(#pacff1213a7)\" style=\"fill: none; stroke: #ffffff; stroke-linecap: round\"/>\n     </g>\n     <g id=\"text_6\">\n      <!-- 0.0 -->\n      <g style=\"fill: #262626\" transform=\"translate(32.031406 202.196137) scale(0.11 -0.11)\">\n       <use xlink:href=\"#DejaVuSans-30\"/>\n       <use xlink:href=\"#DejaVuSans-2e\" x=\"63.623047\"/>\n       <use xlink:href=\"#DejaVuSans-30\" x=\"95.410156\"/>\n      </g>\n     </g>\n    </g>\n    <g id=\"ytick_3\">\n     <g id=\"line2d_6\">\n      <path d=\"M 59.024844 172.121972 \nL 282.224844 172.121972 \n\" clip-path=\"url(#pacff1213a7)\" style=\"fill: none; stroke: #ffffff; stroke-linecap: round\"/>\n     </g>\n     <g id=\"text_7\">\n      <!-- 0.2 -->\n      <g style=\"fill: #262626\" transform=\"translate(32.031406 176.301113) scale(0.11 -0.11)\">\n       <use xlink:href=\"#DejaVuSans-30\"/>\n       <use xlink:href=\"#DejaVuSans-2e\" x=\"63.623047\"/>\n       <use xlink:href=\"#DejaVuSans-32\" x=\"95.410156\"/>\n      </g>\n     </g>\n    </g>\n    <g id=\"ytick_4\">\n     <g id=\"line2d_7\">\n      <path d=\"M 59.024844 146.226948 \nL 282.224844 146.226948 \n\" clip-path=\"url(#pacff1213a7)\" style=\"fill: none; stroke: #ffffff; stroke-linecap: round\"/>\n     </g>\n     <g id=\"text_8\">\n      <!-- 0.4 -->\n      <g style=\"fill: #262626\" transform=\"translate(32.031406 150.406089) scale(0.11 -0.11)\">\n       <defs>\n        <path id=\"DejaVuSans-34\" d=\"M 2419 4116 \nL 825 1625 \nL 2419 1625 \nL 2419 4116 \nz\nM 2253 4666 \nL 3047 4666 \nL 3047 1625 \nL 3713 1625 \nL 3713 1100 \nL 3047 1100 \nL 3047 0 \nL 2419 0 \nL 2419 1100 \nL 313 1100 \nL 313 1709 \nL 2253 4666 \nz\n\" transform=\"scale(0.015625)\"/>\n       </defs>\n       <use xlink:href=\"#DejaVuSans-30\"/>\n       <use xlink:href=\"#DejaVuSans-2e\" x=\"63.623047\"/>\n       <use xlink:href=\"#DejaVuSans-34\" x=\"95.410156\"/>\n      </g>\n     </g>\n    </g>\n    <g id=\"ytick_5\">\n     <g id=\"line2d_8\">\n      <path d=\"M 59.024844 120.331925 \nL 282.224844 120.331925 \n\" clip-path=\"url(#pacff1213a7)\" style=\"fill: none; stroke: #ffffff; stroke-linecap: round\"/>\n     </g>\n     <g id=\"text_9\">\n      <!-- 0.6 -->\n      <g style=\"fill: #262626\" transform=\"translate(32.031406 124.511065) scale(0.11 -0.11)\">\n       <defs>\n        <path id=\"DejaVuSans-36\" d=\"M 2113 2584 \nQ 1688 2584 1439 2293 \nQ 1191 2003 1191 1497 \nQ 1191 994 1439 701 \nQ 1688 409 2113 409 \nQ 2538 409 2786 701 \nQ 3034 994 3034 1497 \nQ 3034 2003 2786 2293 \nQ 2538 2584 2113 2584 \nz\nM 3366 4563 \nL 3366 3988 \nQ 3128 4100 2886 4159 \nQ 2644 4219 2406 4219 \nQ 1781 4219 1451 3797 \nQ 1122 3375 1075 2522 \nQ 1259 2794 1537 2939 \nQ 1816 3084 2150 3084 \nQ 2853 3084 3261 2657 \nQ 3669 2231 3669 1497 \nQ 3669 778 3244 343 \nQ 2819 -91 2113 -91 \nQ 1303 -91 875 529 \nQ 447 1150 447 2328 \nQ 447 3434 972 4092 \nQ 1497 4750 2381 4750 \nQ 2619 4750 2861 4703 \nQ 3103 4656 3366 4563 \nz\n\" transform=\"scale(0.015625)\"/>\n       </defs>\n       <use xlink:href=\"#DejaVuSans-30\"/>\n       <use xlink:href=\"#DejaVuSans-2e\" x=\"63.623047\"/>\n       <use xlink:href=\"#DejaVuSans-36\" x=\"95.410156\"/>\n      </g>\n     </g>\n    </g>\n    <g id=\"ytick_6\">\n     <g id=\"line2d_9\">\n      <path d=\"M 59.024844 94.436901 \nL 282.224844 94.436901 \n\" clip-path=\"url(#pacff1213a7)\" style=\"fill: none; stroke: #ffffff; stroke-linecap: round\"/>\n     </g>\n     <g id=\"text_10\">\n      <!-- 0.8 -->\n      <g style=\"fill: #262626\" transform=\"translate(32.031406 98.616042) scale(0.11 -0.11)\">\n       <defs>\n        <path id=\"DejaVuSans-38\" d=\"M 2034 2216 \nQ 1584 2216 1326 1975 \nQ 1069 1734 1069 1313 \nQ 1069 891 1326 650 \nQ 1584 409 2034 409 \nQ 2484 409 2743 651 \nQ 3003 894 3003 1313 \nQ 3003 1734 2745 1975 \nQ 2488 2216 2034 2216 \nz\nM 1403 2484 \nQ 997 2584 770 2862 \nQ 544 3141 544 3541 \nQ 544 4100 942 4425 \nQ 1341 4750 2034 4750 \nQ 2731 4750 3128 4425 \nQ 3525 4100 3525 3541 \nQ 3525 3141 3298 2862 \nQ 3072 2584 2669 2484 \nQ 3125 2378 3379 2068 \nQ 3634 1759 3634 1313 \nQ 3634 634 3220 271 \nQ 2806 -91 2034 -91 \nQ 1263 -91 848 271 \nQ 434 634 434 1313 \nQ 434 1759 690 2068 \nQ 947 2378 1403 2484 \nz\nM 1172 3481 \nQ 1172 3119 1398 2916 \nQ 1625 2713 2034 2713 \nQ 2441 2713 2670 2916 \nQ 2900 3119 2900 3481 \nQ 2900 3844 2670 4047 \nQ 2441 4250 2034 4250 \nQ 1625 4250 1398 4047 \nQ 1172 3844 1172 3481 \nz\n\" transform=\"scale(0.015625)\"/>\n       </defs>\n       <use xlink:href=\"#DejaVuSans-30\"/>\n       <use xlink:href=\"#DejaVuSans-2e\" x=\"63.623047\"/>\n       <use xlink:href=\"#DejaVuSans-38\" x=\"95.410156\"/>\n      </g>\n     </g>\n    </g>\n    <g id=\"ytick_7\">\n     <g id=\"line2d_10\">\n      <path d=\"M 59.024844 68.541877 \nL 282.224844 68.541877 \n\" clip-path=\"url(#pacff1213a7)\" style=\"fill: none; stroke: #ffffff; stroke-linecap: round\"/>\n     </g>\n     <g id=\"text_11\">\n      <!-- 1.0 -->\n      <g style=\"fill: #262626\" transform=\"translate(32.031406 72.721018) scale(0.11 -0.11)\">\n       <use xlink:href=\"#DejaVuSans-31\"/>\n       <use xlink:href=\"#DejaVuSans-2e\" x=\"63.623047\"/>\n       <use xlink:href=\"#DejaVuSans-30\" x=\"95.410156\"/>\n      </g>\n     </g>\n    </g>\n    <g id=\"ytick_8\">\n     <g id=\"line2d_11\">\n      <path d=\"M 59.024844 42.646854 \nL 282.224844 42.646854 \n\" clip-path=\"url(#pacff1213a7)\" style=\"fill: none; stroke: #ffffff; stroke-linecap: round\"/>\n     </g>\n     <g id=\"text_12\">\n      <!-- 1.2 -->\n      <g style=\"fill: #262626\" transform=\"translate(32.031406 46.825994) scale(0.11 -0.11)\">\n       <use xlink:href=\"#DejaVuSans-31\"/>\n       <use xlink:href=\"#DejaVuSans-2e\" x=\"63.623047\"/>\n       <use xlink:href=\"#DejaVuSans-32\" x=\"95.410156\"/>\n      </g>\n     </g>\n    </g>\n    <g id=\"text_13\">\n     <!-- $x_2$ -->\n     <g style=\"fill: #262626\" transform=\"translate(16.318125 139.618125) rotate(-90) scale(0.12 -0.12)\">\n      <use xlink:href=\"#DejaVuSans-Oblique-78\" transform=\"translate(0 0.3125)\"/>\n      <use xlink:href=\"#DejaVuSans-32\" transform=\"translate(59.179688 -16.09375) scale(0.7)\"/>\n     </g>\n    </g>\n   </g>\n   <g id=\"PathCollection_1\">\n    <defs>\n     <path id=\"m936d11ce90\" d=\"M 0 3 \nC 0.795609 3 1.55874 2.683901 2.12132 2.12132 \nC 2.683901 1.55874 3 0.795609 3 0 \nC 3 -0.795609 2.683901 -1.55874 2.12132 -2.12132 \nC 1.55874 -2.683901 0.795609 -3 0 -3 \nC -0.795609 -3 -1.55874 -2.683901 -2.12132 -2.12132 \nC -2.683901 -1.55874 -3 -0.795609 -3 0 \nC -3 0.795609 -2.683901 1.55874 -2.12132 2.12132 \nC -1.55874 2.683901 -0.795609 3 0 3 \nz\n\" style=\"stroke: #333333\"/>\n    </defs>\n    <g clip-path=\"url(#pacff1213a7)\">\n     <use xlink:href=\"#m936d11ce90\" x=\"250.322765\" y=\"63.066347\" style=\"fill: #4c72b0; stroke: #333333\"/>\n     <use xlink:href=\"#m936d11ce90\" x=\"253.773795\" y=\"73.972909\" style=\"fill: #4c72b0; stroke: #333333\"/>\n     <use xlink:href=\"#m936d11ce90\" x=\"89.170169\" y=\"201.855534\" style=\"fill: #4c72b0; stroke: #333333\"/>\n     <use xlink:href=\"#m936d11ce90\" x=\"108.996598\" y=\"177.217868\" style=\"fill: #4c72b0; stroke: #333333\"/>\n     <use xlink:href=\"#m936d11ce90\" x=\"100.352112\" y=\"212.052775\" style=\"fill: #4c72b0; stroke: #333333\"/>\n     <use xlink:href=\"#m936d11ce90\" x=\"103.614983\" y=\"193.364215\" style=\"fill: #4c72b0; stroke: #333333\"/>\n     <use xlink:href=\"#m936d11ce90\" x=\"251.506799\" y=\"87.716049\" style=\"fill: #4c72b0; stroke: #333333\"/>\n     <use xlink:href=\"#m936d11ce90\" x=\"243.760015\" y=\"67.331755\" style=\"fill: #4c72b0; stroke: #333333\"/>\n     <use xlink:href=\"#m936d11ce90\" x=\"103.276673\" y=\"193.698468\" style=\"fill: #4c72b0; stroke: #333333\"/>\n     <use xlink:href=\"#m936d11ce90\" x=\"88.9784\" y=\"210.626534\" style=\"fill: #4c72b0; stroke: #333333\"/>\n     <use xlink:href=\"#m936d11ce90\" x=\"219.796827\" y=\"32.398125\" style=\"fill: #4c72b0; stroke: #333333\"/>\n     <use xlink:href=\"#m936d11ce90\" x=\"102.495476\" y=\"211.848697\" style=\"fill: #4c72b0; stroke: #333333\"/>\n     <use xlink:href=\"#m936d11ce90\" x=\"101.447453\" y=\"193.710406\" style=\"fill: #4c72b0; stroke: #333333\"/>\n     <use xlink:href=\"#m936d11ce90\" x=\"112.870713\" y=\"216.391157\" style=\"fill: #4c72b0; stroke: #333333\"/>\n     <use xlink:href=\"#m936d11ce90\" x=\"109.811271\" y=\"196.608154\" style=\"fill: #4c72b0; stroke: #333333\"/>\n     <use xlink:href=\"#m936d11ce90\" x=\"98.69973\" y=\"187.196429\" style=\"fill: #4c72b0; stroke: #333333\"/>\n     <use xlink:href=\"#m936d11ce90\" x=\"108.555925\" y=\"193.06656\" style=\"fill: #4c72b0; stroke: #333333\"/>\n     <use xlink:href=\"#m936d11ce90\" x=\"95.937922\" y=\"207.112555\" style=\"fill: #4c72b0; stroke: #333333\"/>\n     <use xlink:href=\"#m936d11ce90\" x=\"229.389546\" y=\"55.730619\" style=\"fill: #4c72b0; stroke: #333333\"/>\n     <use xlink:href=\"#m936d11ce90\" x=\"100.67316\" y=\"196.572938\" style=\"fill: #4c72b0; stroke: #333333\"/>\n     <use xlink:href=\"#m936d11ce90\" x=\"227.367647\" y=\"85.332748\" style=\"fill: #4c72b0; stroke: #333333\"/>\n     <use xlink:href=\"#m936d11ce90\" x=\"218.948899\" y=\"86.918696\" style=\"fill: #4c72b0; stroke: #333333\"/>\n     <use xlink:href=\"#m936d11ce90\" x=\"102.6238\" y=\"193.339898\" style=\"fill: #4c72b0; stroke: #333333\"/>\n     <use xlink:href=\"#m936d11ce90\" x=\"261.055489\" y=\"71.624429\" style=\"fill: #4c72b0; stroke: #333333\"/>\n     <use xlink:href=\"#m936d11ce90\" x=\"242.545038\" y=\"71.013287\" style=\"fill: #4c72b0; stroke: #333333\"/>\n     <use xlink:href=\"#m936d11ce90\" x=\"231.996604\" y=\"52.562614\" style=\"fill: #4c72b0; stroke: #333333\"/>\n     <use xlink:href=\"#m936d11ce90\" x=\"256.306257\" y=\"72.604907\" style=\"fill: #4c72b0; stroke: #333333\"/>\n     <use xlink:href=\"#m936d11ce90\" x=\"98.41594\" y=\"198.639995\" style=\"fill: #4c72b0; stroke: #333333\"/>\n     <use xlink:href=\"#m936d11ce90\" x=\"245.665657\" y=\"81.938795\" style=\"fill: #4c72b0; stroke: #333333\"/>\n     <use xlink:href=\"#m936d11ce90\" x=\"129.738292\" y=\"204.338685\" style=\"fill: #4c72b0; stroke: #333333\"/>\n     <use xlink:href=\"#m936d11ce90\" x=\"265.068743\" y=\"66.85288\" style=\"fill: #4c72b0; stroke: #333333\"/>\n     <use xlink:href=\"#m936d11ce90\" x=\"117.869897\" y=\"197.104619\" style=\"fill: #4c72b0; stroke: #333333\"/>\n     <use xlink:href=\"#m936d11ce90\" x=\"226.652579\" y=\"68.51036\" style=\"fill: #4c72b0; stroke: #333333\"/>\n     <use xlink:href=\"#m936d11ce90\" x=\"105.356917\" y=\"183.20844\" style=\"fill: #4c72b0; stroke: #333333\"/>\n     <use xlink:href=\"#m936d11ce90\" x=\"112.529332\" y=\"205.598093\" style=\"fill: #4c72b0; stroke: #333333\"/>\n     <use xlink:href=\"#m936d11ce90\" x=\"216.48829\" y=\"55.321447\" style=\"fill: #4c72b0; stroke: #333333\"/>\n     <use xlink:href=\"#m936d11ce90\" x=\"226.410265\" y=\"76.656383\" style=\"fill: #4c72b0; stroke: #333333\"/>\n     <use xlink:href=\"#m936d11ce90\" x=\"237.993214\" y=\"48.787518\" style=\"fill: #4c72b0; stroke: #333333\"/>\n     <use xlink:href=\"#m936d11ce90\" x=\"79.370214\" y=\"194.926517\" style=\"fill: #4c72b0; stroke: #333333\"/>\n     <use xlink:href=\"#m936d11ce90\" x=\"129.787945\" y=\"189.247882\" style=\"fill: #4c72b0; stroke: #333333\"/>\n     <use xlink:href=\"#m936d11ce90\" x=\"79.829266\" y=\"198.878591\" style=\"fill: #4c72b0; stroke: #333333\"/>\n     <use xlink:href=\"#m936d11ce90\" x=\"195.627299\" y=\"69.31398\" style=\"fill: #4c72b0; stroke: #333333\"/>\n     <use xlink:href=\"#m936d11ce90\" x=\"77.219638\" y=\"194.595659\" style=\"fill: #4c72b0; stroke: #333333\"/>\n     <use xlink:href=\"#m936d11ce90\" x=\"85.078758\" y=\"195.083003\" style=\"fill: #4c72b0; stroke: #333333\"/>\n     <use xlink:href=\"#m936d11ce90\" x=\"116.280992\" y=\"203.642043\" style=\"fill: #4c72b0; stroke: #333333\"/>\n     <use xlink:href=\"#m936d11ce90\" x=\"119.866368\" y=\"207.667179\" style=\"fill: #4c72b0; stroke: #333333\"/>\n     <use xlink:href=\"#m936d11ce90\" x=\"226.724623\" y=\"72.150889\" style=\"fill: #4c72b0; stroke: #333333\"/>\n     <use xlink:href=\"#m936d11ce90\" x=\"88.007453\" y=\"191.511958\" style=\"fill: #4c72b0; stroke: #333333\"/>\n     <use xlink:href=\"#m936d11ce90\" x=\"94.005152\" y=\"188.661165\" style=\"fill: #4c72b0; stroke: #333333\"/>\n     <use xlink:href=\"#m936d11ce90\" x=\"240.465705\" y=\"93.471633\" style=\"fill: #4c72b0; stroke: #333333\"/>\n     <use xlink:href=\"#m936d11ce90\" x=\"224.356116\" y=\"52.915388\" style=\"fill: #4c72b0; stroke: #333333\"/>\n     <use xlink:href=\"#m936d11ce90\" x=\"246.080315\" y=\"60.094747\" style=\"fill: #4c72b0; stroke: #333333\"/>\n     <use xlink:href=\"#m936d11ce90\" x=\"232.687205\" y=\"78.104515\" style=\"fill: #4c72b0; stroke: #333333\"/>\n     <use xlink:href=\"#m936d11ce90\" x=\"104.799515\" y=\"178.438163\" style=\"fill: #4c72b0; stroke: #333333\"/>\n     <use xlink:href=\"#m936d11ce90\" x=\"109.892065\" y=\"214.814737\" style=\"fill: #4c72b0; stroke: #333333\"/>\n     <use xlink:href=\"#m936d11ce90\" x=\"237.568907\" y=\"64.536527\" style=\"fill: #4c72b0; stroke: #333333\"/>\n     <use xlink:href=\"#m936d11ce90\" x=\"97.297877\" y=\"220.282197\" style=\"fill: #4c72b0; stroke: #333333\"/>\n     <use xlink:href=\"#m936d11ce90\" x=\"252.376052\" y=\"84.704651\" style=\"fill: #4c72b0; stroke: #333333\"/>\n     <use xlink:href=\"#m936d11ce90\" x=\"232.202441\" y=\"92.896484\" style=\"fill: #4c72b0; stroke: #333333\"/>\n     <use xlink:href=\"#m936d11ce90\" x=\"95.879431\" y=\"201.254568\" style=\"fill: #4c72b0; stroke: #333333\"/>\n     <use xlink:href=\"#m936d11ce90\" x=\"104.332388\" y=\"201.999674\" style=\"fill: #4c72b0; stroke: #333333\"/>\n     <use xlink:href=\"#m936d11ce90\" x=\"87.682313\" y=\"194.593037\" style=\"fill: #4c72b0; stroke: #333333\"/>\n     <use xlink:href=\"#m936d11ce90\" x=\"245.497979\" y=\"74.316801\" style=\"fill: #4c72b0; stroke: #333333\"/>\n     <use xlink:href=\"#m936d11ce90\" x=\"218.855522\" y=\"78.637079\" style=\"fill: #4c72b0; stroke: #333333\"/>\n     <use xlink:href=\"#m936d11ce90\" x=\"93.138552\" y=\"197.009064\" style=\"fill: #4c72b0; stroke: #333333\"/>\n     <use xlink:href=\"#m936d11ce90\" x=\"84.598391\" y=\"196.400353\" style=\"fill: #4c72b0; stroke: #333333\"/>\n     <use xlink:href=\"#m936d11ce90\" x=\"234.995312\" y=\"61.554231\" style=\"fill: #4c72b0; stroke: #333333\"/>\n     <use xlink:href=\"#m936d11ce90\" x=\"260.510108\" y=\"80.823141\" style=\"fill: #4c72b0; stroke: #333333\"/>\n     <use xlink:href=\"#m936d11ce90\" x=\"233.523881\" y=\"33.125899\" style=\"fill: #4c72b0; stroke: #333333\"/>\n     <use xlink:href=\"#m936d11ce90\" x=\"89.007307\" y=\"193.978231\" style=\"fill: #4c72b0; stroke: #333333\"/>\n     <use xlink:href=\"#m936d11ce90\" x=\"224.637905\" y=\"57.480722\" style=\"fill: #4c72b0; stroke: #333333\"/>\n     <use xlink:href=\"#m936d11ce90\" x=\"245.778134\" y=\"79.844014\" style=\"fill: #4c72b0; stroke: #333333\"/>\n     <use xlink:href=\"#m936d11ce90\" x=\"100.645435\" y=\"212.222181\" style=\"fill: #4c72b0; stroke: #333333\"/>\n     <use xlink:href=\"#m936d11ce90\" x=\"245.38193\" y=\"84.096989\" style=\"fill: #4c72b0; stroke: #333333\"/>\n     <use xlink:href=\"#m936d11ce90\" x=\"85.980156\" y=\"181.733236\" style=\"fill: #4c72b0; stroke: #333333\"/>\n     <use xlink:href=\"#m936d11ce90\" x=\"235.811548\" y=\"69.316488\" style=\"fill: #4c72b0; stroke: #333333\"/>\n     <use xlink:href=\"#m936d11ce90\" x=\"100.277103\" y=\"192.517724\" style=\"fill: #4c72b0; stroke: #333333\"/>\n     <use xlink:href=\"#m936d11ce90\" x=\"95.770584\" y=\"196.396824\" style=\"fill: #4c72b0; stroke: #333333\"/>\n     <use xlink:href=\"#m936d11ce90\" x=\"96.526038\" y=\"185.186553\" style=\"fill: #4c72b0; stroke: #333333\"/>\n     <use xlink:href=\"#m936d11ce90\" x=\"227.702517\" y=\"42.289952\" style=\"fill: #4c72b0; stroke: #333333\"/>\n     <use xlink:href=\"#m936d11ce90\" x=\"239.951889\" y=\"47.432326\" style=\"fill: #4c72b0; stroke: #333333\"/>\n     <use xlink:href=\"#m936d11ce90\" x=\"230.252108\" y=\"84.053525\" style=\"fill: #4c72b0; stroke: #333333\"/>\n     <use xlink:href=\"#m936d11ce90\" x=\"99.375226\" y=\"200.445889\" style=\"fill: #4c72b0; stroke: #333333\"/>\n     <use xlink:href=\"#m936d11ce90\" x=\"238.70967\" y=\"53.988527\" style=\"fill: #4c72b0; stroke: #333333\"/>\n     <use xlink:href=\"#m936d11ce90\" x=\"219.28266\" y=\"54.962329\" style=\"fill: #4c72b0; stroke: #333333\"/>\n     <use xlink:href=\"#m936d11ce90\" x=\"86.500059\" y=\"190.712501\" style=\"fill: #4c72b0; stroke: #333333\"/>\n     <use xlink:href=\"#m936d11ce90\" x=\"106.330603\" y=\"178.10714\" style=\"fill: #4c72b0; stroke: #333333\"/>\n     <use xlink:href=\"#m936d11ce90\" x=\"246.573987\" y=\"60.678501\" style=\"fill: #4c72b0; stroke: #333333\"/>\n     <use xlink:href=\"#m936d11ce90\" x=\"202.400185\" y=\"87.14871\" style=\"fill: #4c72b0; stroke: #333333\"/>\n     <use xlink:href=\"#m936d11ce90\" x=\"253.004881\" y=\"58.820711\" style=\"fill: #4c72b0; stroke: #333333\"/>\n     <use xlink:href=\"#m936d11ce90\" x=\"99.928363\" y=\"198.548118\" style=\"fill: #4c72b0; stroke: #333333\"/>\n     <use xlink:href=\"#m936d11ce90\" x=\"125.739791\" y=\"220.763763\" style=\"fill: #4c72b0; stroke: #333333\"/>\n     <use xlink:href=\"#m936d11ce90\" x=\"234.967464\" y=\"65.94787\" style=\"fill: #4c72b0; stroke: #333333\"/>\n     <use xlink:href=\"#m936d11ce90\" x=\"257.053623\" y=\"101.266317\" style=\"fill: #4c72b0; stroke: #333333\"/>\n     <use xlink:href=\"#m936d11ce90\" x=\"262.224228\" y=\"54.375211\" style=\"fill: #4c72b0; stroke: #333333\"/>\n     <use xlink:href=\"#m936d11ce90\" x=\"232.199331\" y=\"76.158925\" style=\"fill: #4c72b0; stroke: #333333\"/>\n     <use xlink:href=\"#m936d11ce90\" x=\"227.348237\" y=\"84.517398\" style=\"fill: #4c72b0; stroke: #333333\"/>\n     <use xlink:href=\"#m936d11ce90\" x=\"88.27322\" y=\"190.898217\" style=\"fill: #4c72b0; stroke: #333333\"/>\n     <use xlink:href=\"#m936d11ce90\" x=\"214.044397\" y=\"61.813502\" style=\"fill: #4c72b0; stroke: #333333\"/>\n     <use xlink:href=\"#m936d11ce90\" x=\"230.901839\" y=\"60.060143\" style=\"fill: #4c72b0; stroke: #333333\"/>\n     <use xlink:href=\"#m936d11ce90\" x=\"245.569194\" y=\"55.632903\" style=\"fill: #4c72b0; stroke: #333333\"/>\n     <use xlink:href=\"#m936d11ce90\" x=\"222.391125\" y=\"80.174037\" style=\"fill: #4c72b0; stroke: #333333\"/>\n     <use xlink:href=\"#m936d11ce90\" x=\"228.630632\" y=\"66.717071\" style=\"fill: #4c72b0; stroke: #333333\"/>\n     <use xlink:href=\"#m936d11ce90\" x=\"95.59835\" y=\"197.462968\" style=\"fill: #4c72b0; stroke: #333333\"/>\n     <use xlink:href=\"#m936d11ce90\" x=\"243.548667\" y=\"69.612331\" style=\"fill: #4c72b0; stroke: #333333\"/>\n     <use xlink:href=\"#m936d11ce90\" x=\"86.52432\" y=\"194.273799\" style=\"fill: #4c72b0; stroke: #333333\"/>\n     <use xlink:href=\"#m936d11ce90\" x=\"100.404598\" y=\"189.23053\" style=\"fill: #4c72b0; stroke: #333333\"/>\n     <use xlink:href=\"#m936d11ce90\" x=\"123.633964\" y=\"184.598161\" style=\"fill: #4c72b0; stroke: #333333\"/>\n     <use xlink:href=\"#m936d11ce90\" x=\"230.607043\" y=\"72.120236\" style=\"fill: #4c72b0; stroke: #333333\"/>\n     <use xlink:href=\"#m936d11ce90\" x=\"98.450119\" y=\"179.078266\" style=\"fill: #4c72b0; stroke: #333333\"/>\n     <use xlink:href=\"#m936d11ce90\" x=\"70.570701\" y=\"203.769793\" style=\"fill: #4c72b0; stroke: #333333\"/>\n     <use xlink:href=\"#m936d11ce90\" x=\"241.333746\" y=\"61.758879\" style=\"fill: #4c72b0; stroke: #333333\"/>\n    </g>\n   </g>\n   <g id=\"PathCollection_2\">\n    <defs>\n     <path id=\"m9807ebb709\" d=\"M 0 3 \nC 0.795609 3 1.55874 2.683901 2.12132 2.12132 \nC 2.683901 1.55874 3 0.795609 3 0 \nC 3 -0.795609 2.683901 -1.55874 2.12132 -2.12132 \nC 1.55874 -2.683901 0.795609 -3 0 -3 \nC -0.795609 -3 -1.55874 -2.683901 -2.12132 -2.12132 \nC -2.683901 -1.55874 -3 -0.795609 -3 0 \nC -3 0.795609 -2.683901 1.55874 -2.12132 2.12132 \nC -1.55874 2.683901 -0.795609 3 0 3 \nz\n\" style=\"stroke: #333333\"/>\n    </defs>\n    <g clip-path=\"url(#pacff1213a7)\">\n     <use xlink:href=\"#m9807ebb709\" x=\"219.350581\" y=\"198.320764\" style=\"fill: #dd8452; stroke: #333333\"/>\n     <use xlink:href=\"#m9807ebb709\" x=\"241.230632\" y=\"201.492965\" style=\"fill: #dd8452; stroke: #333333\"/>\n     <use xlink:href=\"#m9807ebb709\" x=\"122.886516\" y=\"48.230559\" style=\"fill: #dd8452; stroke: #333333\"/>\n     <use xlink:href=\"#m9807ebb709\" x=\"234.598789\" y=\"199.637021\" style=\"fill: #dd8452; stroke: #333333\"/>\n     <use xlink:href=\"#m9807ebb709\" x=\"238.564912\" y=\"211.310057\" style=\"fill: #dd8452; stroke: #333333\"/>\n     <use xlink:href=\"#m9807ebb709\" x=\"101.211887\" y=\"57.443663\" style=\"fill: #dd8452; stroke: #333333\"/>\n     <use xlink:href=\"#m9807ebb709\" x=\"104.025621\" y=\"61.348704\" style=\"fill: #dd8452; stroke: #333333\"/>\n     <use xlink:href=\"#m9807ebb709\" x=\"255.215208\" y=\"207.207546\" style=\"fill: #dd8452; stroke: #333333\"/>\n     <use xlink:href=\"#m9807ebb709\" x=\"230.008343\" y=\"190.511925\" style=\"fill: #dd8452; stroke: #333333\"/>\n     <use xlink:href=\"#m9807ebb709\" x=\"260.184529\" y=\"186.429186\" style=\"fill: #dd8452; stroke: #333333\"/>\n     <use xlink:href=\"#m9807ebb709\" x=\"113.421984\" y=\"82.450731\" style=\"fill: #dd8452; stroke: #333333\"/>\n     <use xlink:href=\"#m9807ebb709\" x=\"89.838017\" y=\"66.558341\" style=\"fill: #dd8452; stroke: #333333\"/>\n     <use xlink:href=\"#m9807ebb709\" x=\"88.15229\" y=\"65.683074\" style=\"fill: #dd8452; stroke: #333333\"/>\n     <use xlink:href=\"#m9807ebb709\" x=\"84.289339\" y=\"70.725624\" style=\"fill: #dd8452; stroke: #333333\"/>\n     <use xlink:href=\"#m9807ebb709\" x=\"240.403581\" y=\"206.757123\" style=\"fill: #dd8452; stroke: #333333\"/>\n     <use xlink:href=\"#m9807ebb709\" x=\"100.809675\" y=\"85.903961\" style=\"fill: #dd8452; stroke: #333333\"/>\n     <use xlink:href=\"#m9807ebb709\" x=\"101.989716\" y=\"59.124758\" style=\"fill: #dd8452; stroke: #333333\"/>\n     <use xlink:href=\"#m9807ebb709\" x=\"74.064301\" y=\"68.622307\" style=\"fill: #dd8452; stroke: #333333\"/>\n     <use xlink:href=\"#m9807ebb709\" x=\"242.084701\" y=\"202.688622\" style=\"fill: #dd8452; stroke: #333333\"/>\n     <use xlink:href=\"#m9807ebb709\" x=\"107.032536\" y=\"97.406485\" style=\"fill: #dd8452; stroke: #333333\"/>\n     <use xlink:href=\"#m9807ebb709\" x=\"96.659342\" y=\"60.098668\" style=\"fill: #dd8452; stroke: #333333\"/>\n     <use xlink:href=\"#m9807ebb709\" x=\"223.643416\" y=\"233.998125\" style=\"fill: #dd8452; stroke: #333333\"/>\n     <use xlink:href=\"#m9807ebb709\" x=\"233.968987\" y=\"208.241796\" style=\"fill: #dd8452; stroke: #333333\"/>\n     <use xlink:href=\"#m9807ebb709\" x=\"89.030612\" y=\"62.314187\" style=\"fill: #dd8452; stroke: #333333\"/>\n     <use xlink:href=\"#m9807ebb709\" x=\"223.398079\" y=\"196.548276\" style=\"fill: #dd8452; stroke: #333333\"/>\n     <use xlink:href=\"#m9807ebb709\" x=\"91.90792\" y=\"69.791774\" style=\"fill: #dd8452; stroke: #333333\"/>\n     <use xlink:href=\"#m9807ebb709\" x=\"218.780471\" y=\"192.424196\" style=\"fill: #dd8452; stroke: #333333\"/>\n     <use xlink:href=\"#m9807ebb709\" x=\"100.534788\" y=\"57.160685\" style=\"fill: #dd8452; stroke: #333333\"/>\n     <use xlink:href=\"#m9807ebb709\" x=\"97.064195\" y=\"52.613008\" style=\"fill: #dd8452; stroke: #333333\"/>\n     <use xlink:href=\"#m9807ebb709\" x=\"251.837881\" y=\"206.8603\" style=\"fill: #dd8452; stroke: #333333\"/>\n     <use xlink:href=\"#m9807ebb709\" x=\"91.887603\" y=\"87.60279\" style=\"fill: #dd8452; stroke: #333333\"/>\n     <use xlink:href=\"#m9807ebb709\" x=\"228.824316\" y=\"193.702637\" style=\"fill: #dd8452; stroke: #333333\"/>\n     <use xlink:href=\"#m9807ebb709\" x=\"213.84041\" y=\"206.357918\" style=\"fill: #dd8452; stroke: #333333\"/>\n     <use xlink:href=\"#m9807ebb709\" x=\"107.154071\" y=\"78.587588\" style=\"fill: #dd8452; stroke: #333333\"/>\n     <use xlink:href=\"#m9807ebb709\" x=\"69.170298\" y=\"91.148542\" style=\"fill: #dd8452; stroke: #333333\"/>\n     <use xlink:href=\"#m9807ebb709\" x=\"107.231032\" y=\"70.476339\" style=\"fill: #dd8452; stroke: #333333\"/>\n     <use xlink:href=\"#m9807ebb709\" x=\"83.918354\" y=\"69.224736\" style=\"fill: #dd8452; stroke: #333333\"/>\n     <use xlink:href=\"#m9807ebb709\" x=\"215.596301\" y=\"198.493105\" style=\"fill: #dd8452; stroke: #333333\"/>\n     <use xlink:href=\"#m9807ebb709\" x=\"100.020452\" y=\"49.181749\" style=\"fill: #dd8452; stroke: #333333\"/>\n     <use xlink:href=\"#m9807ebb709\" x=\"272.079389\" y=\"214.553888\" style=\"fill: #dd8452; stroke: #333333\"/>\n     <use xlink:href=\"#m9807ebb709\" x=\"116.04812\" y=\"52.21535\" style=\"fill: #dd8452; stroke: #333333\"/>\n     <use xlink:href=\"#m9807ebb709\" x=\"127.961014\" y=\"58.87254\" style=\"fill: #dd8452; stroke: #333333\"/>\n     <use xlink:href=\"#m9807ebb709\" x=\"235.91235\" y=\"194.101872\" style=\"fill: #dd8452; stroke: #333333\"/>\n     <use xlink:href=\"#m9807ebb709\" x=\"69.291266\" y=\"58.188724\" style=\"fill: #dd8452; stroke: #333333\"/>\n     <use xlink:href=\"#m9807ebb709\" x=\"233.504997\" y=\"197.315132\" style=\"fill: #dd8452; stroke: #333333\"/>\n     <use xlink:href=\"#m9807ebb709\" x=\"130.351885\" y=\"80.902305\" style=\"fill: #dd8452; stroke: #333333\"/>\n     <use xlink:href=\"#m9807ebb709\" x=\"228.836135\" y=\"218.545595\" style=\"fill: #dd8452; stroke: #333333\"/>\n     <use xlink:href=\"#m9807ebb709\" x=\"91.480446\" y=\"70.438717\" style=\"fill: #dd8452; stroke: #333333\"/>\n     <use xlink:href=\"#m9807ebb709\" x=\"229.973931\" y=\"192.165887\" style=\"fill: #dd8452; stroke: #333333\"/>\n     <use xlink:href=\"#m9807ebb709\" x=\"250.879756\" y=\"215.586411\" style=\"fill: #dd8452; stroke: #333333\"/>\n     <use xlink:href=\"#m9807ebb709\" x=\"246.053551\" y=\"195.076512\" style=\"fill: #dd8452; stroke: #333333\"/>\n     <use xlink:href=\"#m9807ebb709\" x=\"236.758014\" y=\"195.755191\" style=\"fill: #dd8452; stroke: #333333\"/>\n     <use xlink:href=\"#m9807ebb709\" x=\"101.150742\" y=\"74.223383\" style=\"fill: #dd8452; stroke: #333333\"/>\n     <use xlink:href=\"#m9807ebb709\" x=\"97.758104\" y=\"72.11667\" style=\"fill: #dd8452; stroke: #333333\"/>\n     <use xlink:href=\"#m9807ebb709\" x=\"225.743771\" y=\"203.04899\" style=\"fill: #dd8452; stroke: #333333\"/>\n     <use xlink:href=\"#m9807ebb709\" x=\"96.64925\" y=\"73.22277\" style=\"fill: #dd8452; stroke: #333333\"/>\n     <use xlink:href=\"#m9807ebb709\" x=\"247.434308\" y=\"191.349818\" style=\"fill: #dd8452; stroke: #333333\"/>\n     <use xlink:href=\"#m9807ebb709\" x=\"102.62187\" y=\"56.388567\" style=\"fill: #dd8452; stroke: #333333\"/>\n     <use xlink:href=\"#m9807ebb709\" x=\"252.852945\" y=\"205.778\" style=\"fill: #dd8452; stroke: #333333\"/>\n     <use xlink:href=\"#m9807ebb709\" x=\"250.655521\" y=\"208.393182\" style=\"fill: #dd8452; stroke: #333333\"/>\n     <use xlink:href=\"#m9807ebb709\" x=\"119.980082\" y=\"72.850742\" style=\"fill: #dd8452; stroke: #333333\"/>\n     <use xlink:href=\"#m9807ebb709\" x=\"213.570917\" y=\"197.250965\" style=\"fill: #dd8452; stroke: #333333\"/>\n     <use xlink:href=\"#m9807ebb709\" x=\"96.149383\" y=\"76.297088\" style=\"fill: #dd8452; stroke: #333333\"/>\n     <use xlink:href=\"#m9807ebb709\" x=\"112.149933\" y=\"71.869724\" style=\"fill: #dd8452; stroke: #333333\"/>\n     <use xlink:href=\"#m9807ebb709\" x=\"95.521094\" y=\"77.483811\" style=\"fill: #dd8452; stroke: #333333\"/>\n     <use xlink:href=\"#m9807ebb709\" x=\"248.723993\" y=\"192.653159\" style=\"fill: #dd8452; stroke: #333333\"/>\n     <use xlink:href=\"#m9807ebb709\" x=\"87.214838\" y=\"98.548054\" style=\"fill: #dd8452; stroke: #333333\"/>\n     <use xlink:href=\"#m9807ebb709\" x=\"89.010105\" y=\"63.695818\" style=\"fill: #dd8452; stroke: #333333\"/>\n     <use xlink:href=\"#m9807ebb709\" x=\"86.863252\" y=\"66.098281\" style=\"fill: #dd8452; stroke: #333333\"/>\n     <use xlink:href=\"#m9807ebb709\" x=\"254.914048\" y=\"213.578353\" style=\"fill: #dd8452; stroke: #333333\"/>\n     <use xlink:href=\"#m9807ebb709\" x=\"242.069788\" y=\"218.125272\" style=\"fill: #dd8452; stroke: #333333\"/>\n     <use xlink:href=\"#m9807ebb709\" x=\"93.911794\" y=\"46.280794\" style=\"fill: #dd8452; stroke: #333333\"/>\n     <use xlink:href=\"#m9807ebb709\" x=\"97.512163\" y=\"44.977478\" style=\"fill: #dd8452; stroke: #333333\"/>\n     <use xlink:href=\"#m9807ebb709\" x=\"223.37496\" y=\"204.718764\" style=\"fill: #dd8452; stroke: #333333\"/>\n     <use xlink:href=\"#m9807ebb709\" x=\"238.597704\" y=\"183.377306\" style=\"fill: #dd8452; stroke: #333333\"/>\n     <use xlink:href=\"#m9807ebb709\" x=\"251.932159\" y=\"202.512114\" style=\"fill: #dd8452; stroke: #333333\"/>\n     <use xlink:href=\"#m9807ebb709\" x=\"115.041188\" y=\"56.925615\" style=\"fill: #dd8452; stroke: #333333\"/>\n     <use xlink:href=\"#m9807ebb709\" x=\"123.692441\" y=\"85.665974\" style=\"fill: #dd8452; stroke: #333333\"/>\n     <use xlink:href=\"#m9807ebb709\" x=\"108.817983\" y=\"74.228515\" style=\"fill: #dd8452; stroke: #333333\"/>\n     <use xlink:href=\"#m9807ebb709\" x=\"101.184393\" y=\"87.159484\" style=\"fill: #dd8452; stroke: #333333\"/>\n     <use xlink:href=\"#m9807ebb709\" x=\"89.130257\" y=\"62.066353\" style=\"fill: #dd8452; stroke: #333333\"/>\n     <use xlink:href=\"#m9807ebb709\" x=\"229.748452\" y=\"220.917888\" style=\"fill: #dd8452; stroke: #333333\"/>\n     <use xlink:href=\"#m9807ebb709\" x=\"108.068798\" y=\"75.358415\" style=\"fill: #dd8452; stroke: #333333\"/>\n     <use xlink:href=\"#m9807ebb709\" x=\"228.658991\" y=\"207.255802\" style=\"fill: #dd8452; stroke: #333333\"/>\n     <use xlink:href=\"#m9807ebb709\" x=\"216.226757\" y=\"202.877104\" style=\"fill: #dd8452; stroke: #333333\"/>\n     <use xlink:href=\"#m9807ebb709\" x=\"96.465707\" y=\"49.474868\" style=\"fill: #dd8452; stroke: #333333\"/>\n     <use xlink:href=\"#m9807ebb709\" x=\"71.993367\" y=\"62.964571\" style=\"fill: #dd8452; stroke: #333333\"/>\n     <use xlink:href=\"#m9807ebb709\" x=\"95.09997\" y=\"60.517286\" style=\"fill: #dd8452; stroke: #333333\"/>\n    </g>\n   </g>\n   <g id=\"patch_3\">\n    <path d=\"M 59.024844 244.078125 \nL 59.024844 22.318125 \n\" style=\"fill: none; stroke: #ffffff; stroke-width: 1.25; stroke-linejoin: miter; stroke-linecap: square\"/>\n   </g>\n   <g id=\"patch_4\">\n    <path d=\"M 282.224844 244.078125 \nL 282.224844 22.318125 \n\" style=\"fill: none; stroke: #ffffff; stroke-width: 1.25; stroke-linejoin: miter; stroke-linecap: square\"/>\n   </g>\n   <g id=\"patch_5\">\n    <path d=\"M 59.024844 244.078125 \nL 282.224844 244.078125 \n\" style=\"fill: none; stroke: #ffffff; stroke-width: 1.25; stroke-linejoin: miter; stroke-linecap: square\"/>\n   </g>\n   <g id=\"patch_6\">\n    <path d=\"M 59.024844 22.318125 \nL 282.224844 22.318125 \n\" style=\"fill: none; stroke: #ffffff; stroke-width: 1.25; stroke-linejoin: miter; stroke-linecap: square\"/>\n   </g>\n   <g id=\"text_14\">\n    <!-- Dataset Samples -->\n    <g style=\"fill: #262626\" transform=\"translate(119.598594 16.318125) scale(0.12 -0.12)\">\n     <defs>\n      <path id=\"DejaVuSans-44\" d=\"M 1259 4147 \nL 1259 519 \nL 2022 519 \nQ 2988 519 3436 956 \nQ 3884 1394 3884 2338 \nQ 3884 3275 3436 3711 \nQ 2988 4147 2022 4147 \nL 1259 4147 \nz\nM 628 4666 \nL 1925 4666 \nQ 3281 4666 3915 4102 \nQ 4550 3538 4550 2338 \nQ 4550 1131 3912 565 \nQ 3275 0 1925 0 \nL 628 0 \nL 628 4666 \nz\n\" transform=\"scale(0.015625)\"/>\n      <path id=\"DejaVuSans-61\" d=\"M 2194 1759 \nQ 1497 1759 1228 1600 \nQ 959 1441 959 1056 \nQ 959 750 1161 570 \nQ 1363 391 1709 391 \nQ 2188 391 2477 730 \nQ 2766 1069 2766 1631 \nL 2766 1759 \nL 2194 1759 \nz\nM 3341 1997 \nL 3341 0 \nL 2766 0 \nL 2766 531 \nQ 2569 213 2275 61 \nQ 1981 -91 1556 -91 \nQ 1019 -91 701 211 \nQ 384 513 384 1019 \nQ 384 1609 779 1909 \nQ 1175 2209 1959 2209 \nL 2766 2209 \nL 2766 2266 \nQ 2766 2663 2505 2880 \nQ 2244 3097 1772 3097 \nQ 1472 3097 1187 3025 \nQ 903 2953 641 2809 \nL 641 3341 \nQ 956 3463 1253 3523 \nQ 1550 3584 1831 3584 \nQ 2591 3584 2966 3190 \nQ 3341 2797 3341 1997 \nz\n\" transform=\"scale(0.015625)\"/>\n      <path id=\"DejaVuSans-74\" d=\"M 1172 4494 \nL 1172 3500 \nL 2356 3500 \nL 2356 3053 \nL 1172 3053 \nL 1172 1153 \nQ 1172 725 1289 603 \nQ 1406 481 1766 481 \nL 2356 481 \nL 2356 0 \nL 1766 0 \nQ 1100 0 847 248 \nQ 594 497 594 1153 \nL 594 3053 \nL 172 3053 \nL 172 3500 \nL 594 3500 \nL 594 4494 \nL 1172 4494 \nz\n\" transform=\"scale(0.015625)\"/>\n      <path id=\"DejaVuSans-73\" d=\"M 2834 3397 \nL 2834 2853 \nQ 2591 2978 2328 3040 \nQ 2066 3103 1784 3103 \nQ 1356 3103 1142 2972 \nQ 928 2841 928 2578 \nQ 928 2378 1081 2264 \nQ 1234 2150 1697 2047 \nL 1894 2003 \nQ 2506 1872 2764 1633 \nQ 3022 1394 3022 966 \nQ 3022 478 2636 193 \nQ 2250 -91 1575 -91 \nQ 1294 -91 989 -36 \nQ 684 19 347 128 \nL 347 722 \nQ 666 556 975 473 \nQ 1284 391 1588 391 \nQ 1994 391 2212 530 \nQ 2431 669 2431 922 \nQ 2431 1156 2273 1281 \nQ 2116 1406 1581 1522 \nL 1381 1569 \nQ 847 1681 609 1914 \nQ 372 2147 372 2553 \nQ 372 3047 722 3315 \nQ 1072 3584 1716 3584 \nQ 2034 3584 2315 3537 \nQ 2597 3491 2834 3397 \nz\n\" transform=\"scale(0.015625)\"/>\n      <path id=\"DejaVuSans-65\" d=\"M 3597 1894 \nL 3597 1613 \nL 953 1613 \nQ 991 1019 1311 708 \nQ 1631 397 2203 397 \nQ 2534 397 2845 478 \nQ 3156 559 3463 722 \nL 3463 178 \nQ 3153 47 2828 -22 \nQ 2503 -91 2169 -91 \nQ 1331 -91 842 396 \nQ 353 884 353 1716 \nQ 353 2575 817 3079 \nQ 1281 3584 2069 3584 \nQ 2775 3584 3186 3129 \nQ 3597 2675 3597 1894 \nz\nM 3022 2063 \nQ 3016 2534 2758 2815 \nQ 2500 3097 2075 3097 \nQ 1594 3097 1305 2825 \nQ 1016 2553 972 2059 \nL 3022 2063 \nz\n\" transform=\"scale(0.015625)\"/>\n      <path id=\"DejaVuSans-20\" transform=\"scale(0.015625)\"/>\n      <path id=\"DejaVuSans-53\" d=\"M 3425 4513 \nL 3425 3897 \nQ 3066 4069 2747 4153 \nQ 2428 4238 2131 4238 \nQ 1616 4238 1336 4038 \nQ 1056 3838 1056 3469 \nQ 1056 3159 1242 3001 \nQ 1428 2844 1947 2747 \nL 2328 2669 \nQ 3034 2534 3370 2195 \nQ 3706 1856 3706 1288 \nQ 3706 609 3251 259 \nQ 2797 -91 1919 -91 \nQ 1588 -91 1214 -16 \nQ 841 59 441 206 \nL 441 856 \nQ 825 641 1194 531 \nQ 1563 422 1919 422 \nQ 2459 422 2753 634 \nQ 3047 847 3047 1241 \nQ 3047 1584 2836 1778 \nQ 2625 1972 2144 2069 \nL 1759 2144 \nQ 1053 2284 737 2584 \nQ 422 2884 422 3419 \nQ 422 4038 858 4394 \nQ 1294 4750 2059 4750 \nQ 2388 4750 2728 4690 \nQ 3069 4631 3425 4513 \nz\n\" transform=\"scale(0.015625)\"/>\n      <path id=\"DejaVuSans-6d\" d=\"M 3328 2828 \nQ 3544 3216 3844 3400 \nQ 4144 3584 4550 3584 \nQ 5097 3584 5394 3201 \nQ 5691 2819 5691 2113 \nL 5691 0 \nL 5113 0 \nL 5113 2094 \nQ 5113 2597 4934 2840 \nQ 4756 3084 4391 3084 \nQ 3944 3084 3684 2787 \nQ 3425 2491 3425 1978 \nL 3425 0 \nL 2847 0 \nL 2847 2094 \nQ 2847 2600 2669 2842 \nQ 2491 3084 2119 3084 \nQ 1678 3084 1418 2786 \nQ 1159 2488 1159 1978 \nL 1159 0 \nL 581 0 \nL 581 3500 \nL 1159 3500 \nL 1159 2956 \nQ 1356 3278 1631 3431 \nQ 1906 3584 2284 3584 \nQ 2666 3584 2933 3390 \nQ 3200 3197 3328 2828 \nz\n\" transform=\"scale(0.015625)\"/>\n      <path id=\"DejaVuSans-70\" d=\"M 1159 525 \nL 1159 -1331 \nL 581 -1331 \nL 581 3500 \nL 1159 3500 \nL 1159 2969 \nQ 1341 3281 1617 3432 \nQ 1894 3584 2278 3584 \nQ 2916 3584 3314 3078 \nQ 3713 2572 3713 1747 \nQ 3713 922 3314 415 \nQ 2916 -91 2278 -91 \nQ 1894 -91 1617 61 \nQ 1341 213 1159 525 \nz\nM 3116 1747 \nQ 3116 2381 2855 2742 \nQ 2594 3103 2138 3103 \nQ 1681 3103 1420 2742 \nQ 1159 2381 1159 1747 \nQ 1159 1113 1420 752 \nQ 1681 391 2138 391 \nQ 2594 391 2855 752 \nQ 3116 1113 3116 1747 \nz\n\" transform=\"scale(0.015625)\"/>\n      <path id=\"DejaVuSans-6c\" d=\"M 603 4863 \nL 1178 4863 \nL 1178 0 \nL 603 0 \nL 603 4863 \nz\n\" transform=\"scale(0.015625)\"/>\n     </defs>\n     <use xlink:href=\"#DejaVuSans-44\"/>\n     <use xlink:href=\"#DejaVuSans-61\" x=\"77.001953\"/>\n     <use xlink:href=\"#DejaVuSans-74\" x=\"138.28125\"/>\n     <use xlink:href=\"#DejaVuSans-61\" x=\"177.490234\"/>\n     <use xlink:href=\"#DejaVuSans-73\" x=\"238.769531\"/>\n     <use xlink:href=\"#DejaVuSans-65\" x=\"290.869141\"/>\n     <use xlink:href=\"#DejaVuSans-74\" x=\"352.392578\"/>\n     <use xlink:href=\"#DejaVuSans-20\" x=\"391.601562\"/>\n     <use xlink:href=\"#DejaVuSans-53\" x=\"423.388672\"/>\n     <use xlink:href=\"#DejaVuSans-61\" x=\"486.865234\"/>\n     <use xlink:href=\"#DejaVuSans-6d\" x=\"548.144531\"/>\n     <use xlink:href=\"#DejaVuSans-70\" x=\"645.556641\"/>\n     <use xlink:href=\"#DejaVuSans-6c\" x=\"709.033203\"/>\n     <use xlink:href=\"#DejaVuSans-65\" x=\"736.816406\"/>\n     <use xlink:href=\"#DejaVuSans-73\" x=\"798.339844\"/>\n    </g>\n   </g>\n   <g id=\"legend_1\">\n    <g id=\"patch_7\">\n     <path d=\"M 199.891562 150.994063 \nL 274.524844 150.994063 \nQ 276.724844 150.994063 276.724844 148.794063 \nL 276.724844 117.602188 \nQ 276.724844 115.402188 274.524844 115.402188 \nL 199.891562 115.402188 \nQ 197.691562 115.402188 197.691562 117.602188 \nL 197.691562 148.794063 \nQ 197.691562 150.994063 199.891562 150.994063 \nz\n\" style=\"fill: #eaeaf2; opacity: 0.8; stroke: #cccccc; stroke-linejoin: miter\"/>\n    </g>\n    <g id=\"PathCollection_3\">\n     <g>\n      <use xlink:href=\"#m936d11ce90\" x=\"213.091562\" y=\"125.272969\" style=\"fill: #4c72b0; stroke: #333333\"/>\n     </g>\n    </g>\n    <g id=\"text_15\">\n     <!-- Class 0 -->\n     <g style=\"fill: #262626\" transform=\"translate(232.891562 128.160469) scale(0.11 -0.11)\">\n      <defs>\n       <path id=\"DejaVuSans-43\" d=\"M 4122 4306 \nL 4122 3641 \nQ 3803 3938 3442 4084 \nQ 3081 4231 2675 4231 \nQ 1875 4231 1450 3742 \nQ 1025 3253 1025 2328 \nQ 1025 1406 1450 917 \nQ 1875 428 2675 428 \nQ 3081 428 3442 575 \nQ 3803 722 4122 1019 \nL 4122 359 \nQ 3791 134 3420 21 \nQ 3050 -91 2638 -91 \nQ 1578 -91 968 557 \nQ 359 1206 359 2328 \nQ 359 3453 968 4101 \nQ 1578 4750 2638 4750 \nQ 3056 4750 3426 4639 \nQ 3797 4528 4122 4306 \nz\n\" transform=\"scale(0.015625)\"/>\n      </defs>\n      <use xlink:href=\"#DejaVuSans-43\"/>\n      <use xlink:href=\"#DejaVuSans-6c\" x=\"69.824219\"/>\n      <use xlink:href=\"#DejaVuSans-61\" x=\"97.607422\"/>\n      <use xlink:href=\"#DejaVuSans-73\" x=\"158.886719\"/>\n      <use xlink:href=\"#DejaVuSans-73\" x=\"210.986328\"/>\n      <use xlink:href=\"#DejaVuSans-20\" x=\"263.085938\"/>\n      <use xlink:href=\"#DejaVuSans-30\" x=\"294.873047\"/>\n     </g>\n    </g>\n    <g id=\"PathCollection_4\">\n     <g>\n      <use xlink:href=\"#m9807ebb709\" x=\"213.091562\" y=\"141.418906\" style=\"fill: #dd8452; stroke: #333333\"/>\n     </g>\n    </g>\n    <g id=\"text_16\">\n     <!-- Class 1 -->\n     <g style=\"fill: #262626\" transform=\"translate(232.891562 144.306406) scale(0.11 -0.11)\">\n      <use xlink:href=\"#DejaVuSans-43\"/>\n      <use xlink:href=\"#DejaVuSans-6c\" x=\"69.824219\"/>\n      <use xlink:href=\"#DejaVuSans-61\" x=\"97.607422\"/>\n      <use xlink:href=\"#DejaVuSans-73\" x=\"158.886719\"/>\n      <use xlink:href=\"#DejaVuSans-73\" x=\"210.986328\"/>\n      <use xlink:href=\"#DejaVuSans-20\" x=\"263.085938\"/>\n      <use xlink:href=\"#DejaVuSans-31\" x=\"294.873047\"/>\n     </g>\n    </g>\n   </g>\n  </g>\n </g>\n <defs>\n  <clipPath id=\"pacff1213a7\">\n   <rect x=\"59.024844\" y=\"22.318125\" width=\"223.2\" height=\"221.76\"/>\n  </clipPath>\n </defs>\n</svg>\n",
            "application/pdf": "[encoded data removed]"
          },
          "metadata": {}
        }
      ]
    },
    {
      "cell_type": "markdown",
      "source": [
        "#### The DataLoader class"
      ],
      "metadata": {
        "id": "56uX60S1zghR"
      }
    }
  ]
}